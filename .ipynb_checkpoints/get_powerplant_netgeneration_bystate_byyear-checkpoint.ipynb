{
 "cells": [
  {
   "cell_type": "code",
   "execution_count": 5,
   "metadata": {},
   "outputs": [],
   "source": [
    "import pandas as pd\n",
    "import requests \n",
    "import numpy as np\n",
    "import re\n",
    "import time\n",
    "import matplotlib.pyplot as plt\n",
    "from shapely.geometry import Point\n",
    "from shapely.geometry.polygon import Polygon\n",
    "import plotly.express as px"
   ]
  },
  {
   "cell_type": "code",
   "execution_count": 4,
   "metadata": {},
   "outputs": [],
   "source": [
    "with open('arcgis_key.txt') as f:\n",
    "    arcgis_key = f.readlines()"
   ]
  },
  {
   "cell_type": "code",
   "execution_count": 22,
   "metadata": {},
   "outputs": [],
   "source": [
    "chicago = {\n",
    "        \"coordinates\": [\n",
    "          [\n",
    "            [\n",
    "              -87.75260925292969,\n",
    "              42.15093256154525\n",
    "            ],\n",
    "            [\n",
    "              -88.03173065185545,\n",
    "              42.130057457278575\n",
    "            ],\n",
    "            [\n",
    "              -88.04271697998047,\n",
    "              41.8595892757507\n",
    "            ],\n",
    "            [\n",
    "              -87.69630432128906,\n",
    "              41.613902258359424\n",
    "            ],\n",
    "            [\n",
    "              -87.52395629882812,\n",
    "              41.61646901513335\n",
    "            ],\n",
    "            [\n",
    "              -87.52395629882812,\n",
    "              41.76106872528616\n",
    "            ],\n",
    "            [\n",
    "              -87.66815185546875,\n",
    "              42.15067802855498\n",
    "            ],\n",
    "            [\n",
    "              -87.75260925292969,\n",
    "              42.15093256154525\n",
    "            ]\n",
    "          ]\n",
    "        ]\n",
    "      }"
   ]
  },
  {
   "cell_type": "code",
   "execution_count": 29,
   "metadata": {
    "collapsed": true
   },
   "outputs": [
    {
     "name": "stdout",
     "output_type": "stream",
     "text": [
      "False\n",
      "False\n",
      "False\n",
      "False\n",
      "False\n",
      "False\n",
      "False\n",
      "False\n",
      "False\n",
      "False\n",
      "False\n",
      "False\n",
      "False\n",
      "False\n",
      "False\n",
      "False\n",
      "False\n",
      "False\n",
      "False\n",
      "False\n",
      "False\n",
      "False\n",
      "False\n",
      "False\n",
      "False\n",
      "False\n",
      "False\n",
      "False\n",
      "False\n",
      "False\n",
      "False\n",
      "False\n",
      "False\n",
      "False\n",
      "False\n",
      "False\n",
      "False\n",
      "False\n",
      "False\n",
      "False\n",
      "False\n",
      "False\n",
      "False\n",
      "False\n",
      "False\n",
      "False\n",
      "False\n",
      "False\n",
      "False\n",
      "False\n",
      "False\n",
      "False\n",
      "False\n",
      "False\n",
      "False\n",
      "False\n",
      "False\n",
      "False\n",
      "False\n",
      "False\n",
      "False\n",
      "False\n",
      "False\n",
      "False\n",
      "False\n",
      "False\n",
      "False\n",
      "False\n",
      "False\n",
      "False\n",
      "False\n",
      "False\n",
      "False\n",
      "False\n",
      "False\n",
      "False\n",
      "False\n",
      "False\n",
      "False\n",
      "False\n",
      "False\n",
      "False\n",
      "False\n",
      "False\n",
      "False\n",
      "False\n",
      "False\n",
      "False\n",
      "False\n",
      "False\n",
      "False\n",
      "False\n",
      "False\n",
      "False\n",
      "False\n",
      "False\n",
      "False\n",
      "False\n",
      "False\n",
      "False\n",
      "False\n",
      "False\n",
      "False\n",
      "False\n",
      "False\n",
      "False\n",
      "False\n",
      "False\n",
      "False\n",
      "False\n",
      "False\n",
      "False\n",
      "False\n",
      "False\n",
      "False\n",
      "False\n",
      "False\n",
      "False\n",
      "False\n",
      "False\n",
      "False\n",
      "False\n",
      "False\n",
      "False\n",
      "False\n",
      "False\n",
      "False\n",
      "False\n",
      "False\n",
      "False\n",
      "False\n",
      "False\n",
      "False\n",
      "False\n",
      "False\n",
      "False\n",
      "False\n",
      "False\n",
      "False\n",
      "False\n",
      "False\n",
      "False\n",
      "False\n",
      "False\n",
      "False\n",
      "False\n",
      "False\n",
      "False\n",
      "False\n",
      "False\n",
      "False\n",
      "False\n",
      "False\n",
      "False\n",
      "False\n",
      "False\n",
      "False\n",
      "False\n",
      "False\n",
      "False\n",
      "False\n",
      "False\n",
      "False\n",
      "False\n",
      "False\n",
      "False\n",
      "False\n",
      "False\n",
      "False\n",
      "False\n",
      "False\n",
      "False\n",
      "False\n",
      "False\n",
      "False\n",
      "False\n",
      "False\n",
      "False\n",
      "False\n",
      "False\n",
      "False\n",
      "False\n",
      "False\n",
      "False\n",
      "False\n",
      "False\n",
      "False\n",
      "False\n",
      "False\n",
      "False\n",
      "False\n",
      "False\n",
      "False\n",
      "False\n",
      "False\n",
      "False\n",
      "False\n",
      "False\n",
      "False\n",
      "False\n",
      "False\n",
      "False\n",
      "False\n",
      "False\n",
      "False\n",
      "False\n",
      "False\n",
      "False\n",
      "False\n",
      "False\n",
      "False\n",
      "False\n",
      "False\n",
      "False\n",
      "False\n",
      "False\n",
      "False\n",
      "False\n",
      "False\n",
      "False\n",
      "False\n",
      "False\n",
      "False\n",
      "False\n",
      "False\n",
      "False\n",
      "False\n",
      "False\n",
      "False\n",
      "False\n",
      "False\n",
      "False\n",
      "False\n",
      "False\n",
      "False\n",
      "False\n",
      "False\n",
      "False\n",
      "False\n",
      "False\n",
      "False\n",
      "False\n",
      "False\n",
      "False\n",
      "False\n",
      "False\n",
      "False\n",
      "False\n",
      "False\n",
      "False\n",
      "False\n",
      "False\n",
      "False\n",
      "False\n",
      "False\n",
      "False\n",
      "False\n",
      "False\n",
      "False\n",
      "False\n",
      "False\n",
      "False\n",
      "False\n",
      "False\n",
      "False\n",
      "False\n",
      "False\n",
      "False\n",
      "False\n",
      "False\n",
      "False\n",
      "False\n",
      "False\n",
      "False\n",
      "False\n",
      "False\n",
      "False\n",
      "False\n",
      "False\n",
      "False\n",
      "False\n",
      "False\n",
      "False\n",
      "False\n",
      "False\n",
      "False\n",
      "False\n",
      "False\n",
      "False\n",
      "False\n",
      "False\n",
      "False\n",
      "False\n",
      "False\n",
      "False\n",
      "False\n",
      "False\n",
      "False\n",
      "False\n",
      "False\n",
      "False\n",
      "False\n",
      "False\n",
      "False\n",
      "False\n",
      "False\n",
      "False\n",
      "False\n",
      "False\n",
      "False\n",
      "False\n",
      "False\n",
      "False\n",
      "False\n",
      "False\n",
      "False\n",
      "False\n",
      "False\n",
      "False\n",
      "False\n",
      "False\n",
      "False\n",
      "False\n",
      "False\n",
      "False\n",
      "False\n",
      "False\n",
      "False\n",
      "False\n",
      "False\n",
      "False\n",
      "False\n",
      "False\n",
      "False\n",
      "False\n",
      "False\n",
      "False\n",
      "False\n",
      "False\n",
      "False\n",
      "False\n",
      "False\n",
      "False\n",
      "False\n",
      "False\n",
      "False\n",
      "False\n",
      "False\n",
      "False\n",
      "False\n",
      "False\n",
      "False\n",
      "False\n",
      "False\n",
      "False\n",
      "False\n",
      "False\n",
      "False\n",
      "False\n",
      "False\n",
      "False\n",
      "False\n",
      "False\n",
      "False\n",
      "False\n",
      "False\n",
      "False\n",
      "False\n",
      "False\n",
      "False\n",
      "False\n",
      "False\n",
      "False\n",
      "False\n",
      "False\n",
      "False\n",
      "False\n",
      "False\n",
      "False\n",
      "False\n",
      "False\n",
      "False\n",
      "False\n",
      "False\n",
      "False\n",
      "False\n",
      "False\n",
      "False\n",
      "False\n",
      "False\n",
      "False\n",
      "False\n",
      "False\n",
      "False\n",
      "False\n",
      "False\n",
      "False\n",
      "False\n",
      "False\n",
      "False\n",
      "False\n",
      "False\n",
      "False\n",
      "False\n",
      "False\n",
      "False\n",
      "False\n",
      "False\n",
      "False\n",
      "False\n",
      "False\n",
      "False\n",
      "False\n",
      "False\n",
      "False\n",
      "False\n",
      "False\n",
      "False\n",
      "False\n",
      "False\n",
      "False\n",
      "False\n",
      "False\n",
      "False\n",
      "False\n",
      "False\n",
      "False\n",
      "False\n",
      "False\n",
      "False\n",
      "False\n",
      "False\n",
      "False\n",
      "False\n",
      "False\n",
      "False\n",
      "False\n",
      "False\n",
      "False\n",
      "False\n",
      "False\n",
      "False\n",
      "False\n",
      "False\n",
      "False\n",
      "False\n",
      "False\n",
      "False\n",
      "False\n",
      "False\n",
      "False\n",
      "False\n",
      "False\n",
      "False\n",
      "False\n",
      "False\n",
      "False\n",
      "False\n",
      "False\n",
      "False\n",
      "False\n",
      "False\n",
      "False\n",
      "False\n",
      "False\n",
      "False\n",
      "False\n",
      "False\n",
      "False\n",
      "False\n",
      "False\n",
      "False\n",
      "False\n",
      "False\n",
      "False\n",
      "False\n",
      "False\n",
      "False\n",
      "False\n",
      "False\n",
      "False\n",
      "False\n",
      "False\n",
      "False\n",
      "False\n",
      "False\n",
      "False\n",
      "False\n",
      "False\n",
      "False\n",
      "False\n",
      "False\n",
      "False\n",
      "False\n",
      "False\n",
      "False\n",
      "False\n",
      "False\n",
      "False\n",
      "False\n",
      "False\n",
      "False\n",
      "False\n",
      "False\n",
      "False\n",
      "False\n",
      "False\n",
      "False\n",
      "False\n",
      "False\n",
      "False\n",
      "False\n",
      "False\n",
      "False\n",
      "False\n",
      "False\n",
      "False\n",
      "False\n",
      "False\n",
      "False\n",
      "False\n",
      "False\n",
      "False\n",
      "False\n",
      "False\n",
      "False\n",
      "False\n",
      "False\n",
      "False\n",
      "False\n",
      "False\n",
      "False\n",
      "False\n",
      "False\n",
      "False\n",
      "False\n",
      "False\n",
      "False\n",
      "False\n",
      "False\n",
      "False\n",
      "False\n",
      "False\n",
      "False\n",
      "False\n",
      "False\n",
      "False\n",
      "False\n",
      "False\n",
      "False\n",
      "False\n",
      "False\n",
      "False\n",
      "False\n",
      "False\n",
      "False\n",
      "False\n",
      "False\n",
      "False\n",
      "False\n",
      "False\n",
      "False\n",
      "False\n",
      "False\n",
      "False\n",
      "False\n",
      "False\n",
      "False\n",
      "False\n",
      "False\n",
      "False\n",
      "False\n",
      "False\n",
      "False\n",
      "False\n",
      "False\n",
      "False\n",
      "False\n",
      "False\n",
      "False\n",
      "False\n",
      "False\n",
      "False\n",
      "False\n",
      "False\n",
      "False\n",
      "False\n",
      "False\n",
      "False\n",
      "False\n",
      "False\n",
      "False\n",
      "False\n",
      "False\n",
      "False\n",
      "False\n",
      "False\n",
      "False\n",
      "False\n",
      "False\n",
      "False\n",
      "False\n",
      "False\n",
      "False\n",
      "False\n",
      "False\n",
      "False\n",
      "False\n",
      "False\n",
      "False\n",
      "False\n",
      "False\n",
      "False\n",
      "False\n",
      "False\n",
      "False\n",
      "False\n",
      "False\n",
      "False\n",
      "False\n",
      "False\n",
      "False\n",
      "False\n",
      "False\n",
      "False\n",
      "False\n",
      "False\n",
      "False\n",
      "False\n",
      "False\n",
      "False\n",
      "False\n",
      "False\n",
      "False\n",
      "False\n",
      "False\n",
      "False\n",
      "False\n",
      "False\n",
      "False\n",
      "False\n",
      "False\n",
      "False\n",
      "False\n",
      "False\n",
      "False\n"
     ]
    }
   ],
   "source": [
    "lons_lats_vect = np.column_stack(chicago['coordinates']) # Reshape coordinates\n",
    "polygon = Polygon(lons_lats_vect) # create polygon\n",
    "for latlon in ppdf['Lat-Lon']:\n",
    "    point = Point(float(latlon[0:latlon.rindex(\",\")]), float(latlon[latlon.rindex(\",\")+1:])) # create point\n",
    "    print(point) # check if polygon contains point\n",
    "    print(point.within(polygon)) "
   ]
  },
  {
   "cell_type": "code",
   "execution_count": 32,
   "metadata": {},
   "outputs": [
    {
     "data": {
      "text/plain": [
       "<bound method BaseGeometry.contains of <shapely.geometry.polygon.Polygon object at 0x0000025720929190>>"
      ]
     },
     "execution_count": 32,
     "metadata": {},
     "output_type": "execute_result"
    }
   ],
   "source": [
    "polygon.contains"
   ]
  },
  {
   "cell_type": "code",
   "execution_count": 105,
   "metadata": {
    "collapsed": true
   },
   "outputs": [
    {
     "name": "stdout",
     "output_type": "stream",
     "text": [
      "Collecting package metadata (current_repodata.json): ...working... done\n",
      "Solving environment: ...working... done\n",
      "\n",
      "## Package Plan ##\n",
      "\n",
      "  environment location: C:\\Users\\whill\\anaconda3\n",
      "\n",
      "  added / updated specs:\n",
      "    - arcgis\n",
      "\n",
      "\n",
      "The following packages will be downloaded:\n",
      "\n",
      "\n",
      "Note: you may need to restart the kernel to use updated packages.\n",
      "    package                    |            build\n",
      "    ---------------------------|-----------------\n",
      "    arcgis-1.9.0               |        py38_2172         5.2 MB  esri\n",
      "    blinker-1.4                |   py38haa95532_0          23 KB\n",
      "    conda-4.11.0               |   py38haa95532_0        14.4 MB\n",
      "    ntlm-auth-1.4.0            |             py_0          23 KB  esri\n",
      "    oauthlib-3.2.0             |     pyhd3eb1b0_0          92 KB\n",
      "    pyjwt-2.1.0                |   py38haa95532_0          32 KB\n",
      "    pyshp-2.1.3                |     pyhd3eb1b0_0          37 KB\n",
      "    python-certifi-win32-1.6   |             py_0           9 KB  esri\n",
      "    pywin32-security-228       |           py38_3         204 KB  esri\n",
      "    requests-kerberos-0.12.0   |                0          22 KB  esri\n",
      "    requests-negotiate-sspi-0.5.2|           py38_1          18 KB  esri\n",
      "    requests-oauthlib-1.3.0    |             py_0          23 KB\n",
      "    requests-toolbelt-0.9.1    |     pyhd3eb1b0_0          42 KB\n",
      "    requests_ntlm-1.1.0        |             py_0           8 KB  esri\n",
      "    winkerberos-0.8.0          |           py38_0          27 KB  esri\n",
      "    ------------------------------------------------------------\n",
      "                                           Total:        20.2 MB\n",
      "\n",
      "The following NEW packages will be INSTALLED:\n",
      "\n",
      "  arcgis             esri/win-64::arcgis-1.9.0-py38_2172\n",
      "  blinker            pkgs/main/win-64::blinker-1.4-py38haa95532_0\n",
      "  ntlm-auth          esri/noarch::ntlm-auth-1.4.0-py_0\n",
      "  oauthlib           pkgs/main/noarch::oauthlib-3.2.0-pyhd3eb1b0_0\n",
      "  pyjwt              pkgs/main/win-64::pyjwt-2.1.0-py38haa95532_0\n",
      "  pyshp              pkgs/main/noarch::pyshp-2.1.3-pyhd3eb1b0_0\n",
      "  python-certifi-wi~ esri/noarch::python-certifi-win32-1.6-py_0\n",
      "  pywin32-security   esri/win-64::pywin32-security-228-py38_3\n",
      "  requests-kerberos  esri/win-64::requests-kerberos-0.12.0-0\n",
      "  requests-negotiat~ esri/win-64::requests-negotiate-sspi-0.5.2-py38_1\n",
      "  requests-oauthlib  pkgs/main/noarch::requests-oauthlib-1.3.0-py_0\n",
      "  requests-toolbelt  pkgs/main/noarch::requests-toolbelt-0.9.1-pyhd3eb1b0_0\n",
      "  requests_ntlm      esri/noarch::requests_ntlm-1.1.0-py_0\n",
      "  winkerberos        esri/win-64::winkerberos-0.8.0-py38_0\n",
      "\n",
      "The following packages will be SUPERSEDED by a higher-priority channel:\n",
      "\n",
      "  conda              conda-forge::conda-4.11.0-py38haa244f~ --> pkgs/main::conda-4.11.0-py38haa95532_0\n",
      "\n",
      "\n",
      "\n",
      "Downloading and Extracting Packages\n",
      "\n",
      "conda-4.11.0         | 14.4 MB   |            |   0% \n",
      "conda-4.11.0         | 14.4 MB   | 1          |   1% \n",
      "conda-4.11.0         | 14.4 MB   | 4          |   5% \n",
      "conda-4.11.0         | 14.4 MB   | 8          |   8% \n",
      "conda-4.11.0         | 14.4 MB   | #1         |  11% \n",
      "conda-4.11.0         | 14.4 MB   | #4         |  14% \n",
      "conda-4.11.0         | 14.4 MB   | #8         |  18% \n",
      "conda-4.11.0         | 14.4 MB   | ##1        |  21% \n",
      "conda-4.11.0         | 14.4 MB   | ##5        |  25% \n",
      "conda-4.11.0         | 14.4 MB   | ##8        |  28% \n",
      "conda-4.11.0         | 14.4 MB   | ###1       |  32% \n",
      "conda-4.11.0         | 14.4 MB   | ###5       |  36% \n",
      "conda-4.11.0         | 14.4 MB   | ###9       |  40% \n",
      "conda-4.11.0         | 14.4 MB   | ####3      |  44% \n",
      "conda-4.11.0         | 14.4 MB   | ####7      |  47% \n",
      "conda-4.11.0         | 14.4 MB   | #####      |  50% \n",
      "conda-4.11.0         | 14.4 MB   | #####4     |  54% \n",
      "conda-4.11.0         | 14.4 MB   | #####8     |  58% \n",
      "conda-4.11.0         | 14.4 MB   | ######2    |  63% \n",
      "conda-4.11.0         | 14.4 MB   | ######6    |  66% \n",
      "conda-4.11.0         | 14.4 MB   | ######9    |  70% \n",
      "conda-4.11.0         | 14.4 MB   | #######3   |  73% \n",
      "conda-4.11.0         | 14.4 MB   | #######6   |  77% \n",
      "conda-4.11.0         | 14.4 MB   | ########   |  80% \n",
      "conda-4.11.0         | 14.4 MB   | ########3  |  84% \n",
      "conda-4.11.0         | 14.4 MB   | ########7  |  87% \n",
      "conda-4.11.0         | 14.4 MB   | #########  |  91% \n",
      "conda-4.11.0         | 14.4 MB   | #########4 |  94% \n",
      "conda-4.11.0         | 14.4 MB   | #########8 |  98% \n",
      "conda-4.11.0         | 14.4 MB   | ########## | 100% \n",
      "\n",
      "blinker-1.4          | 23 KB     |            |   0% \n",
      "blinker-1.4          | 23 KB     | ########## | 100% \n",
      "blinker-1.4          | 23 KB     | ########## | 100% \n",
      "\n",
      "winkerberos-0.8.0    | 27 KB     |            |   0% \n",
      "winkerberos-0.8.0    | 27 KB     | ########## | 100% \n",
      "winkerberos-0.8.0    | 27 KB     | ########## | 100% \n",
      "\n",
      "requests-toolbelt-0. | 42 KB     |            |   0% \n",
      "requests-toolbelt-0. | 42 KB     | ########## | 100% \n",
      "requests-toolbelt-0. | 42 KB     | ########## | 100% \n",
      "\n",
      "pyshp-2.1.3          | 37 KB     |            |   0% \n",
      "pyshp-2.1.3          | 37 KB     | ########6  |  86% \n",
      "pyshp-2.1.3          | 37 KB     | ########## | 100% \n",
      "\n",
      "pyjwt-2.1.0          | 32 KB     |            |   0% \n",
      "pyjwt-2.1.0          | 32 KB     | ########## | 100% \n",
      "\n",
      "python-certifi-win32 | 9 KB      |            |   0% \n",
      "python-certifi-win32 | 9 KB      | ########## | 100% \n",
      "python-certifi-win32 | 9 KB      | ########## | 100% \n",
      "\n",
      "requests_ntlm-1.1.0  | 8 KB      |            |   0% \n",
      "requests_ntlm-1.1.0  | 8 KB      | ########## | 100% \n",
      "requests_ntlm-1.1.0  | 8 KB      | ########## | 100% \n",
      "\n",
      "pywin32-security-228 | 204 KB    |            |   0% \n",
      "pywin32-security-228 | 204 KB    | ########## | 100% \n",
      "pywin32-security-228 | 204 KB    | ########## | 100% \n",
      "\n",
      "requests-negotiate-s | 18 KB     |            |   0% \n",
      "requests-negotiate-s | 18 KB     | ########## | 100% \n",
      "requests-negotiate-s | 18 KB     | ########## | 100% \n",
      "\n",
      "arcgis-1.9.0         | 5.2 MB    |            |   0% \n",
      "arcgis-1.9.0         | 5.2 MB    | ########## | 100% \n",
      "arcgis-1.9.0         | 5.2 MB    | ########## | 100% \n",
      "\n",
      "oauthlib-3.2.0       | 92 KB     |            |   0% \n",
      "oauthlib-3.2.0       | 92 KB     | ########## | 100% \n",
      "oauthlib-3.2.0       | 92 KB     | ########## | 100% \n",
      "\n",
      "requests-oauthlib-1. | 23 KB     |            |   0% \n",
      "requests-oauthlib-1. | 23 KB     | ########## | 100% \n",
      "\n",
      "ntlm-auth-1.4.0      | 23 KB     |            |   0% \n",
      "ntlm-auth-1.4.0      | 23 KB     | ########## | 100% \n",
      "ntlm-auth-1.4.0      | 23 KB     | ########## | 100% \n",
      "\n",
      "requests-kerberos-0. | 22 KB     |            |   0% \n",
      "requests-kerberos-0. | 22 KB     | ########## | 100% \n",
      "requests-kerberos-0. | 22 KB     | ########## | 100% \n",
      "Preparing transaction: ...working... done\n",
      "Verifying transaction: ...working... done\n",
      "Executing transaction: ...working... Uninstalling prior versions of arcgis widget\n",
      "Installing C:\\Users\\whill\\anaconda3\\lib\\site-packages\\arcgis\\widgets/js/dist -> arcgis\n",
      "Copying: C:\\Users\\whill\\anaconda3\\lib\\site-packages\\arcgis\\widgets\\js\\dist\\arcgis-map-ipywidget-jupyterlab.js -> C:\\Users\\whill\\anaconda3\\share\\jupyter\\nbextensions\\arcgis\\arcgis-map-ipywidget-jupyterlab.js\n",
      "Copying: C:\\Users\\whill\\anaconda3\\lib\\site-packages\\arcgis\\widgets\\js\\dist\\arcgis-map-ipywidget-jupyterlab.js.map -> C:\\Users\\whill\\anaconda3\\share\\jupyter\\nbextensions\\arcgis\\arcgis-map-ipywidget-jupyterlab.js.map\n",
      "Up to date: C:\\Users\\whill\\anaconda3\\share\\jupyter\\nbextensions\\arcgis\\arcgis-map-ipywidget.js\n",
      "Up to date: C:\\Users\\whill\\anaconda3\\share\\jupyter\\nbextensions\\arcgis\\arcgis-map-ipywidget.js.map\n",
      "Up to date: C:\\Users\\whill\\anaconda3\\share\\jupyter\\nbextensions\\arcgis\\extension.js\n",
      "Copying: C:\\Users\\whill\\anaconda3\\lib\\site-packages\\arcgis\\widgets\\js\\dist\\extension.js.map -> C:\\Users\\whill\\anaconda3\\share\\jupyter\\nbextensions\\arcgis\\extension.js.map\n",
      "Copying: C:\\Users\\whill\\anaconda3\\lib\\site-packages\\arcgis\\widgets\\js\\dist\\index.js -> C:\\Users\\whill\\anaconda3\\share\\jupyter\\nbextensions\\arcgis\\index.js\n",
      "Copying: C:\\Users\\whill\\anaconda3\\lib\\site-packages\\arcgis\\widgets\\js\\dist\\index.js.map -> C:\\Users\\whill\\anaconda3\\share\\jupyter\\nbextensions\\arcgis\\index.js.map\n",
      "- Validating: ok\n",
      "\n",
      "    To initialize this nbextension in the browser every time the notebook (or other app) loads:\n",
      "    \n",
      "          jupyter nbextension enable arcgis --py --sys-prefix\n",
      "    \n",
      "Enabling notebook extension arcgis/extension...\n",
      "      - Validating: ok\n",
      "\n",
      "done\n"
     ]
    }
   ],
   "source": [
    "conda install -c esri arcgis"
   ]
  },
  {
   "cell_type": "code",
   "execution_count": 18,
   "metadata": {},
   "outputs": [
    {
     "name": "stdout",
     "output_type": "stream",
     "text": [
      "Collecting shapely\n",
      "  Downloading Shapely-1.8.1.post1-cp38-cp38-win_amd64.whl (1.3 MB)\n",
      "Installing collected packages: shapely\n",
      "Successfully installed shapely-1.8.1.post1\n",
      "Note: you may need to restart the kernel to use updated packages.\n"
     ]
    }
   ],
   "source": [
    "pip install shapely"
   ]
  },
  {
   "cell_type": "code",
   "execution_count": 2,
   "metadata": {},
   "outputs": [],
   "source": [
    "from arcgis.gis import GIS\n",
    "from arcgis.geocoding import geocode"
   ]
  },
  {
   "cell_type": "code",
   "execution_count": 11,
   "metadata": {},
   "outputs": [
    {
     "name": "stdout",
     "output_type": "stream",
     "text": [
      "Connected to www.arcgis.com as\n"
     ]
    }
   ],
   "source": [
    "gis = GIS(api_key= arcgis_key[0])\n",
    "print(f\"Connected to {gis.properties.portalHostname} as\")"
   ]
  },
  {
   "cell_type": "code",
   "execution_count": 13,
   "metadata": {},
   "outputs": [
    {
     "data": {
      "text/plain": [
       "{'address': 'Chicago, Illinois',\n",
       " 'location': {'x': -87.63244999999995, 'y': 41.884250000000065},\n",
       " 'score': 100,\n",
       " 'attributes': {'Loc_name': 'World',\n",
       "  'Status': 'M',\n",
       "  'Score': 100,\n",
       "  'Match_addr': 'Chicago, Illinois',\n",
       "  'LongLabel': 'Chicago, IL, USA',\n",
       "  'ShortLabel': 'Chicago',\n",
       "  'Addr_type': 'Locality',\n",
       "  'Type': 'City',\n",
       "  'PlaceName': 'Chicago',\n",
       "  'Place_addr': 'Chicago, Illinois',\n",
       "  'Phone': '',\n",
       "  'URL': '',\n",
       "  'Rank': 2,\n",
       "  'AddBldg': '',\n",
       "  'AddNum': '',\n",
       "  'AddNumFrom': '',\n",
       "  'AddNumTo': '',\n",
       "  'AddRange': '',\n",
       "  'Side': '',\n",
       "  'StPreDir': '',\n",
       "  'StPreType': '',\n",
       "  'StName': '',\n",
       "  'StType': '',\n",
       "  'StDir': '',\n",
       "  'BldgType': '',\n",
       "  'BldgName': '',\n",
       "  'LevelType': '',\n",
       "  'LevelName': '',\n",
       "  'UnitType': '',\n",
       "  'UnitName': '',\n",
       "  'SubAddr': '',\n",
       "  'StAddr': '',\n",
       "  'Block': '',\n",
       "  'Sector': '',\n",
       "  'Nbrhd': '',\n",
       "  'District': '',\n",
       "  'City': 'Chicago',\n",
       "  'MetroArea': 'Chicagoland',\n",
       "  'Subregion': 'Cook County',\n",
       "  'Region': 'Illinois',\n",
       "  'RegionAbbr': 'IL',\n",
       "  'Territory': '',\n",
       "  'Zone': '',\n",
       "  'Postal': '',\n",
       "  'PostalExt': '',\n",
       "  'Country': 'USA',\n",
       "  'LangCode': 'ENG',\n",
       "  'Distance': 0,\n",
       "  'X': -87.63244999999995,\n",
       "  'Y': 41.884250000000065,\n",
       "  'DisplayX': -87.63244999999995,\n",
       "  'DisplayY': 41.884250000000065,\n",
       "  'Xmin': -87.83044999999994,\n",
       "  'Xmax': -87.43444999999996,\n",
       "  'Ymin': 41.686250000000065,\n",
       "  'Ymax': 42.082250000000066,\n",
       "  'ExInfo': ''},\n",
       " 'extent': {'xmin': -87.83044999999994,\n",
       "  'ymin': 41.686250000000065,\n",
       "  'xmax': -87.43444999999996,\n",
       "  'ymax': 42.082250000000066}}"
      ]
     },
     "execution_count": 13,
     "metadata": {},
     "output_type": "execute_result"
    }
   ],
   "source": [
    "chicago = geocode(\"Chicago, IL\")[0]\n",
    "#mapIL = gis.map(\"Chicago, IL\")\n",
    "#mapIL.basemap ='gray'\n",
    "chicago"
   ]
  },
  {
   "cell_type": "code",
   "execution_count": 2,
   "metadata": {},
   "outputs": [],
   "source": [
    "eia_api = 'YLzAESCBG2pvI4FBAuuzrjJcqiOejX0Q3wuwrc19' \n",
    "states = {'Illinois' : '902944',\n",
    "          'Michigan':'902953',\n",
    "          'Minnesota':'902954',\n",
    "          'Indiana':'902945',\n",
    "          'Ohio':'902966',\n",
    "          'Pennsylvania':'902969',\n",
    "          'Wisconsin': '902980'}\n",
    "#for the cell below \n",
    "#state_function(category_id) where category_id = list of states selected\n",
    "#for every cat in category_id\n",
    "#resp3 = requests.get(f\"https://api.eia.gov/category/?api_key={eia_api}&category_id={cat}\")"
   ]
  },
  {
   "cell_type": "code",
   "execution_count": null,
   "metadata": {},
   "outputs": [],
   "source": [
    "counter = 0\n",
    "for state in states:\n",
    "    resp3 = requests.get(f\"https://api.eia.gov/category/?api_key={eia_api}&category_id={states.get(state)}\")###dict.get(state)\n",
    "    dt = resp3.json()\n",
    "    powerdict = dt['category']['childcategories']\n",
    "    ppdf = pd.DataFrame(columns = [\"Power Plant Name\", \"ID No.\"])\n",
    "    for i in range(0,len(powerdict)):\n",
    "        ppname = powerdict[i]['name']\n",
    "        ppid = ppname[ppname.rindex(\"(\")+1:ppname.rindex(\")\")]\n",
    "        ppname = ppname[-ppname.rindex(\" \"):ppname.rindex(\"(\")-1]\n",
    "        df_length = len(ppdf)\n",
    "        templist = [ppname,ppid]\n",
    "        ppdf.loc[df_length] = templist\n",
    "    latlondf = pd.DataFrame(columns = [\"ID No.\", 'Lat', 'Lon', 'Lat-Lon','Megawatthours/year'])\n",
    "    for idnum in ppdf['ID No.']: \n",
    "        try:\n",
    "            resp2 = requests.get(f\"https://api.eia.gov/series/?api_key={eia_api}&series_id=ELEC.PLANT.GEN.{idnum}-ALL-ALL.A\")\n",
    "            time.sleep(0.1)\n",
    "            dt = resp2.json()\n",
    "            ppfull = dt['series']\n",
    "            ppdata = ppfull[0]['data']#years, megawatthours\n",
    "            ppname = ppfull[0]['name']\n",
    "            ppid = ppname[ppname.rindex(\"(\")+1:ppname.rindex(\")\")]\n",
    "            # if lat,lon/lat lon not in city,state lat,lon do not add it to our list \n",
    "            # continue\n",
    "            pplat = ppfull[0]['lat']\n",
    "            pplong = ppfull[0]['lon']\n",
    "            pplatlon = ppfull[0]['latlon']\n",
    "            df_length = len(latlondf)\n",
    "            templist = [ppid,pplat,pplong,pplatlon,ppdata]\n",
    "            latlondf.loc[df_length] = templist\n",
    "            latlondf\n",
    "        except KeyError:\n",
    "            continue\n",
    "    ppdf = pd.merge(ppdf,latlondf,how='inner', left_on=[\"ID No.\"], right_on=[\"ID No.\"])\n",
    "    if counter == 0:\n",
    "        ppdffinal = ppdf\n",
    "        counter += 1\n",
    "    else:\n",
    "        ppdffinal = pd.concat([ppdffinal,ppdf], ignore_index=True)\n",
    "ppdffinal"
   ]
  },
  {
   "cell_type": "code",
   "execution_count": 25,
   "metadata": {},
   "outputs": [
    {
     "data": {
      "text/plain": [
       "0        40.1719\n",
       "1      41.494636\n",
       "2        40.5958\n",
       "3      40.625278\n",
       "4        39.0586\n",
       "         ...    \n",
       "318     42.37195\n",
       "319    38.591745\n",
       "320    41.767012\n",
       "321    41.823403\n",
       "322    40.261377\n",
       "Name: Lat, Length: 323, dtype: object"
      ]
     },
     "execution_count": 25,
     "metadata": {},
     "output_type": "execute_result"
    }
   ],
   "source": [
    "ppdf['Lat']"
   ]
  },
  {
   "cell_type": "code",
   "execution_count": 7,
   "metadata": {},
   "outputs": [],
   "source": [
    "centering = {\n",
    "  \"lat\": 40.42889,\n",
    "  \"lon\": -86.37472\n",
    "}"
   ]
  },
  {
   "cell_type": "code",
   "execution_count": 12,
   "metadata": {},
   "outputs": [
    {
     "name": "stdout",
     "output_type": "stream",
     "text": [
      "902944\n",
      "902953\n",
      "902954\n",
      "902945\n",
      "902966\n",
      "902969\n",
      "902980\n"
     ]
    }
   ],
   "source": [
    "for state in states:\n",
    "    print(states.get(state))"
   ]
  },
  {
   "cell_type": "code",
   "execution_count": 8,
   "metadata": {},
   "outputs": [
    {
     "data": {
      "application/vnd.plotly.v1+json": {
       "config": {
        "plotlyServerURL": "https://plot.ly"
       },
       "data": [
        {
         "geo": "geo",
         "hovertemplate": "<b>%{hovertext}</b><br><br>Lat=%{lat}<br>Lon=%{lon}<extra></extra>",
         "hovertext": [
          "Clinton Power Station",
          "Joliet 29",
          "E D Edwards",
          "Sterling Avenue",
          "Coffeen",
          "Grand Tower Energy Center LLC",
          "Hutsonville",
          "Meredosia",
          "Bloom",
          "Calumet",
          "Crawford",
          "Dresden Generating Station",
          "Electric Junction",
          "Joliet 9",
          "Kincaid Generation LLC",
          "Lombard",
          "Powerton",
          "Quad Cities Generating Station",
          "Sabrooke",
          "Waukegan",
          "Will County",
          "Fisk Street",
          "Joppa Steam",
          "Baldwin Energy Complex",
          "Havana",
          "Hennepin Power Station",
          "Oglesby",
          "Stallings",
          "Vermilion",
          "Wood River",
          "Moline",
          "Rockton",
          "Venice",
          "Breese",
          "Bushnell",
          "Carlyle",
          "Carmi",
          "Fairfield",
          "Farmer City",
          "Freeburg",
          "Geneseo",
          "Highland",
          "McLeansboro",
          "Marshall (IL)",
          "Mascoutah",
          "Peru (IL)",
          "Princeton (IL)",
          "Rantoul",
          "Red Bud",
          "North Ninth Street",
          "South Main Street",
          "Dallman",
          "Lakeside",
          "Reynolds",
          "Sullivan (IL)",
          "Waterloo",
          "Winnetka",
          "Marion",
          "KMS Joliet Power Partners LP",
          "Duck Creek",
          "Newton",
          "Braidwood Generation Station",
          "Byron Generating Station",
          "Collins",
          "LaSalle Generating Station",
          "Pittsfield",
          "Pearl Station",
          "Indian Trails Cogen 1",
          "Interstate",
          "Upper Sterling",
          "State Farm",
          "Tilton",
          "1515 S Caron Road",
          "Alsey",
          "Freedom Power Project",
          "Avenue A Generator Sets",
          "MEPI GT Facility",
          "Parkside",
          "Gillum",
          "Hallock",
          "Kickapoo",
          "Industrial Park",
          "Altamont",
          "Factory",
          "John Deere Harvester Works",
          "Entenmanns Cogeneration Facility",
          "Little Company of Mary Hospital",
          "Alsip Paper Condominium Association",
          "Klein Tools Chicago",
          "Dayton Hydro",
          "Archer Daniels Midland Decatur",
          "Archer Daniels Midland Peoria",
          "Tate & Lyle Decatur Plant Cogen",
          "Lockport Powerhouse",
          "Nalco",
          "Stickney Water Reclamation Plant",
          "Chicago Baking",
          "Settlers Hill Gas Recovery",
          "Milam Gas Recovery",
          "CID Gas Recovery",
          "Lake Gas Recovery",
          "ExxonMobil Oil Joliet Refinery",
          "Tazewell Gas Recovery",
          "INEOS Naperville Cogeneration Plant",
          "Fox Metro Water Reclamation District",
          "Sherman Hospital",
          "Ingersoll Milling Machine",
          "Bunge Milling Cogen",
          "ITT Cogen Facility",
          "IVEX Packaging",
          "Bunge Oil",
          "Illinois Refining Division",
          "University of Illinois Cogen Facility",
          "Chicago",
          "Fuyao Glass Illinois Inc.",
          "Art Institute of Chicago",
          "WestRock (IL)",
          "Hoffer Plastics",
          "Kankakee Hydro Facility",
          "Charter Dura-Bar",
          "Ingredion Incorporated",
          "Kankakee Gas Recovery",
          "Woodland Landfill Gas Recovery",
          "Pekin Paperboard",
          "University of Illinois Abbott Power Plt",
          "Evanston Township High School",
          "CSL Behring LLC",
          "Duraco Products",
          "Mars Snackfood US",
          "Presence Saint Mary of Nazareth Hospital",
          "General Mills West Chicago",
          "Panduit Tinley Park",
          "Mondelez Global LLC",
          "Phelps Dodge Chicago Rod",
          "Dixon Hydroelectric Dam",
          "Woodridge Greene Valley Treatment Plant",
          "Thornwood High School",
          "Thornridge High School",
          "Greene Valley Gas Recovery",
          "Livingston Generating Facility",
          "Biodyne Beecher",
          "Biodyne Congress",
          "Biodyne Peoria",
          "Biodyne Springfield",
          "Biodyne Lyons",
          "MPEA Energy Center",
          "Rocky Road Power LLC",
          "Kendall County Generation Facility",
          "Geneva Energy LLC",
          "Nelson Energy Center",
          "Cordova Energy",
          "Elwood Energy LLC",
          "Gibson City Energy Center LLC",
          "Pinckneyville",
          "Kinmundy",
          "Morris Cogeneration LLC",
          "Lincoln Generating Facility",
          "Lee Energy Facility",
          "Energy Shelby County",
          "NRG Rockford I",
          "Tuscola Station",
          "University Park South",
          "Crete Energy Venture LLC",
          "Aurora",
          "Southeast Chicago Energy Project",
          "Calumet Energy Team LLC",
          "Holland Energy Facility",
          "Zion Energy Center",
          "Raccoon Creek Energy Center",
          "Elgin Energy Center LLC",
          "Goose Creek Energy Center",
          "Rockford Electric",
          "Mallard Lake Electric",
          "Quad Cities",
          "South Barrington Electric",
          "University Park North",
          "KMS Macon Power",
          "Roxana Resource Recovery",
          "Streator Energy Partners LLC",
          "Devonshire Power Partners LLC",
          "Brickyard Energy Partners LLC",
          "Dixon/Lee Energy Partners LLC",
          "Upper Rock Energy Partners LLC",
          "Riveside Resource Recovery LLC",
          "Avon Energy Partners LLC",
          "Mas Countryside RNG, LLC",
          "Morris Genco LLC",
          "Prairie State Generating Station",
          "NRG Rockford II Energy Center",
          "Casey City of",
          "IMEA Highland",
          "IMEA Waterloo",
          "IMEA Flora",
          "Flora Site A",
          "Flora Site B",
          "Mendota Hills, LLC",
          "BNWRD",
          "Crescent Ridge",
          "High Trail Wind Farm LLC",
          "Pike County Wind Power",
          "Agriwind",
          "Westchester Gas Recovery",
          "Des Plaines Gas Recovery",
          "Beecher Gas Recovery",
          "GSG LLC",
          "Geneva Generation Facility",
          "Five Oaks Gas Recovery",
          "Old Trail Wind Farm",
          "Providence Heights Wind LLC",
          "Camp Grove Wind Farm",
          "Winnebago Energy Center LLC",
          "EcoGrove Wind LLC",
          "Rail Splitter Wind Farm",
          "Zion Landfill Gas to Energy Facility",
          "Grand Ridge Wind Energy Center",
          "Sears Hydroelectric Plant",
          "Granite City Works",
          "Streator Cayuga Ridge South",
          "Blackstone Wind Farm LLC",
          "Blackstone Wind Farm II LLC",
          "Big Sky Wind LLC",
          "Exelon Solar Chicago",
          "Minonk Wind Farm",
          "FPL Energy Illinois Wind LLC Hybrid",
          "White Oak Energy LLC",
          "Prairie View IL",
          "Bishop Hill Energy LLC",
          "Settlers Trail Wind Farm LLC",
          "Bright Stalk Wind Farm I",
          "Pioneer Trail Wind Farm, LLC",
          "Brown County Wind Turbine",
          "Grand Ridge Solar Farm",
          "Jacksonville Developmental Center",
          "SIUC",
          "Shady Oaks Wind Farm",
          "California Ridge Wind Energy LLC",
          "Bishop Hill II Wind Farm",
          "Adkins Energy LLC",
          "Kishwaukee CHP Plant",
          "Loyola University Health Plant",
          "Northeastern Illinois University Cogen",
          "North Chicago Energy Center",
          "Triton East and West Cogen",
          "Rochelle Energy Center",
          "Rockford Solar Farm",
          "Walnut Ridge Wind Farm",
          "Com Adam 1WF-1",
          "Pilot Hill Wind Farm",
          "Sugar Creek Wind One LLC",
          "Lincoln Land Wind",
          "Hoopeston Wind LLC",
          "Radfords Run Wind Farm",
          "Clinton LFGTE",
          "Heartland Community College",
          "Orchard Hills Renewable Energy Station",
          "Chicago West Side Energy Center",
          "Northwest Community Hospital",
          "Great Lakes Central Power Plant",
          "Cardinal Point LLC",
          "Grand Ridge Battery Projects",
          "Elwood Energy Storage Center",
          "Jake Energy Storage Center",
          "Green River Wind Farm",
          "Kelly Creek Wind Project",
          "McHenry Battery Storage",
          "Argonne National Laboratory CHP",
          "Lake Forest Hospital Central Energy Plant",
          "Harvest Ridge  Wind Farm",
          "IKEA Joliet Rooftop PV System",
          "Otter Creek Wind Farm LLC",
          "Hilltopper Wind Project",
          "Bishop Hill III",
          "John A Logan College Solar",
          "TAC-Distributed Energy Resource Hybrid",
          "Prairie State Solar Project",
          "Rantoul Solar",
          "Whitney Hill Wind Power LLC",
          "CED Champaign Solar LLC",
          "Phoenix Solar South Farms LLC Solar Farm",
          "Marengo Battery Storage LLC",
          "Prairie Wolf Solar LLC",
          "Harmony Road Solar",
          "Square Barn Solar",
          "Reed Road Solar",
          "Mooseheart School Solar",
          "Lone Tree Wind, LLC",
          "Bennington Wind",
          "Galesburg Solar Array",
          "Illinois PV Fulton 1 CSG",
          "Lineage Logistics Solar",
          "ESIL-PFCHICAGO 3, LLC",
          "ESIL-PFCHICAGO 2, LLC",
          "Clinton Solar 4 LLC CSG",
          "Vermilion Solar 1, LLC CSG",
          "Ridge Farm",
          "Blooming Grove Wind Energy Center",
          "Route 76 Boone Solar 1",
          "Apple Canyon Lake Solar",
          "2662 Freeport Solar 1 CSG",
          "Whiteside Solar 1 CSG",
          "Morgan Solar 4, LLC CSG",
          "Marlow Solar, LLC CSG",
          "IGS Stockton DG CSG",
          "Morgan Solar 2, LLC CSG",
          "McDonough Solar 1, LLC CSG",
          "Dressor Plains Solar, LLC",
          "Blue Goose Solar CSG",
          "Iroquois Solar 1B LLC CSG",
          "Sullivan B Community Solar LLC",
          "Kent School Road Solar 1",
          "Schulte 2 Community Solar",
          "Kankakee Solar 4 LLC",
          "Lafayette 2 - McHenry Franks 1",
          "Lafayette 2 - McHenry Franks 2",
          "Lafayette 2 - Kankakee Yonke",
          "AES Griggs Solar, LLC",
          "IGS East Central, LLC",
          "SV CSG Lily Lake 2 LLC",
          "Cedarville Road",
          "SCS American Bottoms 009885 Sauget, LLC",
          "SCS Beltway 011754 Rock Falls, LLC",
          "Mooseheart School - (IL)",
          "Glacier Sands Wind Power, LLC"
         ],
         "lat": [
          "40.1719",
          "41.494636",
          "40.5958",
          "40.625278",
          "39.0586",
          "37.6577",
          "39.1333",
          "39.82333",
          "42.057222",
          "41.713611",
          "41.82848",
          "41.39",
          "41.773889",
          "41.4931",
          "39.590556",
          "41.89",
          "40.5408",
          "41.726111",
          "42.216944",
          "42.3833",
          "41.6334",
          "41.8508",
          "37.2094",
          "38.205",
          "40.2797",
          "41.3028",
          "41.2897",
          "38.7314",
          "40.1781",
          "38.8639",
          "41.509959",
          "42.4511",
          "38.6642",
          "38.607456",
          "40.548586",
          "38.6106",
          "38.0967",
          "38.380709",
          "40.24611",
          "38.425556",
          "41.451494",
          "38.7412",
          "38.094683",
          "39.392138",
          "38.484444",
          "41.3237",
          "41.375528",
          "40.312222",
          "38.2165",
          "41.9093",
          "41.9092",
          "39.754803",
          "39.757327",
          "39.806868",
          "39.596667",
          "38.334786",
          "42.115589",
          "37.619747",
          "41.499167",
          "40.4663",
          "38.9361",
          "41.2435",
          "42.0742",
          "41.346111",
          "41.245498",
          "39.6436",
          "39.449185",
          "40.557686",
          "39.8233",
          "41.787115",
          "40.4535",
          "40.106125",
          "41.9084",
          "39.569771",
          "39.103333",
          "41.780735",
          "37.2175",
          "40.5308",
          "40.4728",
          "40.5325",
          "40.398056",
          "41.768199",
          "39.068747",
          "39.825934",
          "41.524315",
          "41.906944",
          "41.72086",
          "41.666667",
          "41.9939",
          "41.387792",
          "39.870074",
          "40.677188",
          "39.84919",
          "41.5697",
          "41.800909",
          "41.815833",
          "41.791667",
          "41.871914",
          "38.6603",
          "41.658794",
          "42.10625",
          "41.4167",
          "40.6817",
          "41.8108",
          "41.7128",
          "42.0544",
          "42.298938",
          "40.128889",
          "41.83442",
          "41.518056",
          "41.15461",
          "39.004722",
          "41.8675",
          "41.812222",
          "39.77896",
          "41.879444",
          "41.7697",
          "41.998889",
          "41.1128",
          "42.2891",
          "41.7775",
          "41.0333",
          "41.981004",
          "40.551389",
          "40.105169",
          "42.044038",
          "41.1603",
          "41.9875",
          "41.91708",
          "41.9031",
          "41.8794",
          "41.5776",
          "42.3156",
          "41.853611",
          "41.845306",
          "41.74",
          "41.5839",
          "41.6225",
          "41.73379",
          "40.9314",
          "41.391389",
          "41.871667",
          "40.7942",
          "39.856389",
          "41.7989",
          "41.852709",
          "42.0931",
          "41.4797",
          "41.5001",
          "41.774444",
          "41.712216",
          "41.4388",
          "40.4705",
          "38.1114",
          "38.7619",
          "41.411944",
          "41.393315",
          "41.8287",
          "39.2794",
          "42.238558",
          "39.798175",
          "41.440893",
          "41.429444",
          "41.8151",
          "41.7181",
          "41.6835",
          "39.223144",
          "42.4776",
          "38.6996",
          "42.000061",
          "40.106931",
          "42.108333",
          "41.952742",
          "41.374444",
          "42.0797",
          "41.4425",
          "39.823889",
          "38.8311",
          "41.0919",
          "41.645",
          "40.1003",
          "41.737507",
          "41.5367",
          "41.685",
          "41.674167",
          "42.321111",
          "41.377628",
          "38.279167",
          "42.2383",
          "39.310555",
          "38.7417",
          "38.3344",
          "38.6658",
          "38.6693",
          "38.6714",
          "41.7194",
          "40.380556",
          "41.25",
          "40.4792",
          "39.6189",
          "41.3017",
          "41.834878",
          "42.067125",
          "41.38109",
          "41.643611",
          "41.8911",
          "39.5678",
          "40.4792",
          "41.2294",
          "41.090583",
          "42.1589",
          "42.451481",
          "40.3692",
          "42.4803",
          "41.2269",
          "41.4614",
          "38.6972",
          "40.9969",
          "41.1508",
          "41.1406",
          "41.599167",
          "41.6758",
          "40.888611",
          "41.7678",
          "40.590833",
          "41.343056",
          "41.215278",
          "40.694444",
          "40.701241",
          "40.46405",
          "39.973333",
          "41.143421",
          "39.716667",
          "37.711944",
          "41.666944",
          "40.211667",
          "41.2325",
          "42.362222",
          "42.221944",
          "41.855833",
          "41.981111",
          "42.306389",
          "41.916944",
          "41.924722",
          "42.175278",
          "41.496667",
          "41.660278",
          "40.999169",
          "40.074167",
          "39.821944",
          "40.399722",
          "40.011111",
          "40.120833",
          "40.537",
          "42.1424",
          "41.870751",
          "42.067753",
          "42.31",
          "40.588568",
          "41.2269",
          "41.896873",
          "41.488679",
          "41.620264",
          "40.9675",
          "42.331411",
          "41.716534",
          "42.25416",
          "39.83188",
          "41.48",
          "41.055385",
          "39.952927",
          "41.211057",
          "37.750571",
          "40.089797",
          "38.208333",
          "40.286726",
          "39.952927",
          "40.138283",
          "40.081738",
          "42.252733",
          "39.544605",
          "42.164",
          "42.164",
          "42.110925",
          "41.8233",
          "41.203214",
          "40.96038",
          "40.9199",
          "40.698522",
          "41.455",
          "41.849",
          "41.817",
          "38.59587",
          "40.12437",
          "39.88821",
          "40.661079",
          "42.41894",
          "42.436665",
          "42.339696",
          "41.85691",
          "39.61409",
          "38.315279",
          "42.348183",
          "39.606529",
          "40.555424",
          "39.186321",
          "41.769376",
          "40.774047",
          "40.469681",
          "42.312841",
          "41.032235",
          "41.119258",
          "42.251568",
          "42.214828",
          "41.097265",
          "41.19128",
          "41.471715",
          "41.954902",
          "42.37195",
          "38.591745",
          "41.767012",
          "41.823403",
          "40.261377"
         ],
         "legendgroup": "",
         "lon": [
          "-88.8339",
          "-88.123827",
          "-89.6631",
          "89.631111",
          "-89.4031",
          "-89.511161",
          "-87.6597",
          "-90.56722",
          "87.869444",
          "87.542778",
          "-87.72291",
          "-88.27",
          "88.263056",
          "-88.1153",
          "-89.496389",
          "88.061667",
          "-89.6786",
          "-90.310278",
          "89.052222",
          "-87.8133",
          "-88.0629",
          "-87.6533",
          "-88.858889",
          "-89.8544",
          "-90.08",
          "-89.315",
          "-89.0725",
          "-90.0461",
          "-87.7481",
          "-90.1347",
          "-90.534021",
          "-89.0756",
          "-90.1764",
          "-89.524514",
          "-90.513814",
          "-89.3583",
          "-88.1631",
          "-88.366006",
          "-88.638761",
          "-89.914444",
          "-90.148547",
          "-89.6849",
          "-88.541331",
          "-87.68513",
          "-88.200833",
          "-89.1123",
          "-89.464872",
          "-88.159444",
          "-89.9992",
          "-89.0498",
          "-89.0504",
          "-89.602389",
          "-89.600512",
          "-89.641653",
          "-88.611944",
          "-90.158939",
          "-87.731025",
          "-88.953114",
          "88.146389",
          "-89.9841",
          "-88.2781",
          "-88.2286",
          "-89.2819",
          "88.392778",
          "-88.669066",
          "-90.6353",
          "-90.614119",
          "-89.66699",
          "-89.5891",
          "-89.677526",
          "-88.9605",
          "-87.653818",
          "-89.0466",
          "-90.43602",
          "-88.85898",
          "-89.689416",
          "-88.8661",
          "-88.9839",
          "-88.9919",
          "89.533056",
          "89.3875",
          "-89.674385",
          "-88.755547",
          "-89.637282",
          "-90.43659",
          "87.918611",
          "-87.692",
          "87.733333",
          "-87.699722",
          "-88.789656",
          "-88.890756",
          "-89.604911",
          "-88.931944",
          "-88.0789",
          "-88.197156",
          "87.765",
          "87.625",
          "-88.287721",
          "-90.1317",
          "-87.577716",
          "-87.813738",
          "-88.1833",
          "-89.5167",
          "-88.1486",
          "-88.3522",
          "-88.2817",
          "-89.075925",
          "-86.374722",
          "-87.628465",
          "-87.945556",
          "-87.85478",
          "87.723611",
          "-87.6524",
          "87.654722",
          "-88.901629",
          "87.622222",
          "-88.28",
          "-88.302222",
          "-87.8681",
          "-88.413",
          "-87.8233",
          "-87.8678",
          "-88.27452",
          "89.668611",
          "-88.241528",
          "-87.699556",
          "-87.8542",
          "88.164444",
          "-87.79218",
          "-87.6831",
          "-88.22",
          "-87.7704",
          "-89.0356",
          "87.7375",
          "-89.481286",
          "-88.06",
          "-87.6047",
          "-87.5978",
          "-88.084908",
          "-88.6548",
          "87.6375",
          "87.886111",
          "-89.8436",
          "89.619444",
          "-87.825",
          "-87.61851",
          "-88.2397",
          "-88.2581",
          "-87.5958",
          "-89.607222",
          "-90.279679",
          "-88.1236",
          "-88.3987",
          "-89.3467",
          "-89.0128",
          "-88.332778",
          "-87.943612",
          "-89.4054",
          "-88.4772",
          "-89.101202",
          "-88.349771",
          "-87.753189",
          "-87.6187",
          "-88.2265",
          "-87.5449",
          "-87.5563",
          "-88.758406",
          "-87.895",
          "-88.5392",
          "-88.244572",
          "-88.599867",
          "89.103889",
          "-88.143737",
          "90.522222",
          "-88.1386",
          "-87.7514",
          "89.05",
          "-90.0119",
          "-88.8519",
          "-86.398889",
          "-87.6111",
          "-89.384821",
          "-90.3761",
          "-88.05",
          "-86.421389",
          "-88.031944",
          "-88.401212",
          "-89.666944",
          "-89.1011",
          "-87.992592",
          "-89.6847",
          "-90.1588",
          "-88.4625",
          "-88.4635",
          "-88.4894",
          "-89.0492",
          "-88.960278",
          "-89.5708",
          "-88.7989",
          "-90.8461",
          "-89.6236",
          "-87.916319",
          "-87.886172",
          "-87.637542",
          "-89.173056",
          "-88.2711",
          "-89.3683",
          "-88.7989",
          "-89.5572",
          "-89.639811",
          "-89.0625",
          "-89.878428",
          "-89.4022",
          "-87.8861",
          "-88.6836",
          "-90.5803",
          "-90.1283",
          "-88.49",
          "-88.6233",
          "-88.53",
          "-89.456111",
          "-87.6514",
          "-88.997222",
          "-88.8867",
          "-89.046666",
          "-88.101389",
          "-90.120833",
          "-87.570833",
          "-88.701054",
          "-88.021517",
          "-90.699166",
          "-88.758341",
          "-90.237222",
          "-89.215",
          "-89.059722",
          "-87.878333",
          "-90.174167",
          "-89.803611",
          "-89.093333",
          "-87.835556",
          "-87.719167",
          "-87.851944",
          "-87.845556",
          "-88.998611",
          "-89.088333",
          "-89.580278",
          "-89.249722",
          "-88.056247",
          "-89.291944",
          "-89.955833",
          "-87.799167",
          "-89.047222",
          "-88.961111",
          "-89.019",
          "-89.079",
          "-87.678378",
          "-87.993492",
          "-87.83",
          "-90.751828",
          "-88.6836",
          "-88.222718",
          "-88.108757",
          "-89.557033",
          "-88.1975",
          "-88.274352",
          "-87.970608",
          "-87.864282",
          "-88.072302",
          "-88.07",
          "-88.993862",
          "-89.310249",
          "-90.276024",
          "-89.085297",
          "-88.243573",
          "-89.579166",
          "-88.132797",
          "-89.310249",
          "-88.291246",
          "-88.244498",
          "-88.639983",
          "-87.97198",
          "-88.4625",
          "-88.383",
          "-88.240254",
          "-88.3378",
          "-89.601872",
          "-89.085363",
          "-90.9484",
          "-89.967943",
          "-87.752",
          "-87.669",
          "-87.735",
          "-89.2751",
          "-87.6292",
          "-87.68593",
          "-88.395079",
          "-88.846141",
          "-90.179581",
          "-89.632719",
          "-90.15885",
          "-90.22076",
          "-88.756379",
          "-90.011235",
          "-90.227099",
          "-90.851133",
          "-89.03123",
          "-89.843327",
          "-87.754371",
          "-90.641075",
          "-89.903444",
          "-89.405223",
          "-87.826519",
          "-88.596711",
          "-88.491906",
          "-87.869294",
          "-87.666461",
          "-88.043725",
          "-88.478372",
          "-89.80797",
          "-90.183286",
          "-89.670331",
          "-88.338303",
          "-89.700876"
         ],
         "marker": {
          "color": "#636efa",
          "symbol": "circle"
         },
         "mode": "markers",
         "name": "",
         "showlegend": false,
         "type": "scattergeo"
        }
       ],
       "layout": {
        "geo": {
         "center": {
          "lat": 40.42889,
          "lon": -86.37472
         },
         "domain": {
          "x": [
           0,
           1
          ],
          "y": [
           0,
           1
          ]
         },
         "scope": "usa"
        },
        "legend": {
         "tracegroupgap": 0
        },
        "margin": {
         "t": 60
        },
        "template": {
         "data": {
          "bar": [
           {
            "error_x": {
             "color": "#2a3f5f"
            },
            "error_y": {
             "color": "#2a3f5f"
            },
            "marker": {
             "line": {
              "color": "#E5ECF6",
              "width": 0.5
             },
             "pattern": {
              "fillmode": "overlay",
              "size": 10,
              "solidity": 0.2
             }
            },
            "type": "bar"
           }
          ],
          "barpolar": [
           {
            "marker": {
             "line": {
              "color": "#E5ECF6",
              "width": 0.5
             },
             "pattern": {
              "fillmode": "overlay",
              "size": 10,
              "solidity": 0.2
             }
            },
            "type": "barpolar"
           }
          ],
          "carpet": [
           {
            "aaxis": {
             "endlinecolor": "#2a3f5f",
             "gridcolor": "white",
             "linecolor": "white",
             "minorgridcolor": "white",
             "startlinecolor": "#2a3f5f"
            },
            "baxis": {
             "endlinecolor": "#2a3f5f",
             "gridcolor": "white",
             "linecolor": "white",
             "minorgridcolor": "white",
             "startlinecolor": "#2a3f5f"
            },
            "type": "carpet"
           }
          ],
          "choropleth": [
           {
            "colorbar": {
             "outlinewidth": 0,
             "ticks": ""
            },
            "type": "choropleth"
           }
          ],
          "contour": [
           {
            "colorbar": {
             "outlinewidth": 0,
             "ticks": ""
            },
            "colorscale": [
             [
              0,
              "#0d0887"
             ],
             [
              0.1111111111111111,
              "#46039f"
             ],
             [
              0.2222222222222222,
              "#7201a8"
             ],
             [
              0.3333333333333333,
              "#9c179e"
             ],
             [
              0.4444444444444444,
              "#bd3786"
             ],
             [
              0.5555555555555556,
              "#d8576b"
             ],
             [
              0.6666666666666666,
              "#ed7953"
             ],
             [
              0.7777777777777778,
              "#fb9f3a"
             ],
             [
              0.8888888888888888,
              "#fdca26"
             ],
             [
              1,
              "#f0f921"
             ]
            ],
            "type": "contour"
           }
          ],
          "contourcarpet": [
           {
            "colorbar": {
             "outlinewidth": 0,
             "ticks": ""
            },
            "type": "contourcarpet"
           }
          ],
          "heatmap": [
           {
            "colorbar": {
             "outlinewidth": 0,
             "ticks": ""
            },
            "colorscale": [
             [
              0,
              "#0d0887"
             ],
             [
              0.1111111111111111,
              "#46039f"
             ],
             [
              0.2222222222222222,
              "#7201a8"
             ],
             [
              0.3333333333333333,
              "#9c179e"
             ],
             [
              0.4444444444444444,
              "#bd3786"
             ],
             [
              0.5555555555555556,
              "#d8576b"
             ],
             [
              0.6666666666666666,
              "#ed7953"
             ],
             [
              0.7777777777777778,
              "#fb9f3a"
             ],
             [
              0.8888888888888888,
              "#fdca26"
             ],
             [
              1,
              "#f0f921"
             ]
            ],
            "type": "heatmap"
           }
          ],
          "heatmapgl": [
           {
            "colorbar": {
             "outlinewidth": 0,
             "ticks": ""
            },
            "colorscale": [
             [
              0,
              "#0d0887"
             ],
             [
              0.1111111111111111,
              "#46039f"
             ],
             [
              0.2222222222222222,
              "#7201a8"
             ],
             [
              0.3333333333333333,
              "#9c179e"
             ],
             [
              0.4444444444444444,
              "#bd3786"
             ],
             [
              0.5555555555555556,
              "#d8576b"
             ],
             [
              0.6666666666666666,
              "#ed7953"
             ],
             [
              0.7777777777777778,
              "#fb9f3a"
             ],
             [
              0.8888888888888888,
              "#fdca26"
             ],
             [
              1,
              "#f0f921"
             ]
            ],
            "type": "heatmapgl"
           }
          ],
          "histogram": [
           {
            "marker": {
             "pattern": {
              "fillmode": "overlay",
              "size": 10,
              "solidity": 0.2
             }
            },
            "type": "histogram"
           }
          ],
          "histogram2d": [
           {
            "colorbar": {
             "outlinewidth": 0,
             "ticks": ""
            },
            "colorscale": [
             [
              0,
              "#0d0887"
             ],
             [
              0.1111111111111111,
              "#46039f"
             ],
             [
              0.2222222222222222,
              "#7201a8"
             ],
             [
              0.3333333333333333,
              "#9c179e"
             ],
             [
              0.4444444444444444,
              "#bd3786"
             ],
             [
              0.5555555555555556,
              "#d8576b"
             ],
             [
              0.6666666666666666,
              "#ed7953"
             ],
             [
              0.7777777777777778,
              "#fb9f3a"
             ],
             [
              0.8888888888888888,
              "#fdca26"
             ],
             [
              1,
              "#f0f921"
             ]
            ],
            "type": "histogram2d"
           }
          ],
          "histogram2dcontour": [
           {
            "colorbar": {
             "outlinewidth": 0,
             "ticks": ""
            },
            "colorscale": [
             [
              0,
              "#0d0887"
             ],
             [
              0.1111111111111111,
              "#46039f"
             ],
             [
              0.2222222222222222,
              "#7201a8"
             ],
             [
              0.3333333333333333,
              "#9c179e"
             ],
             [
              0.4444444444444444,
              "#bd3786"
             ],
             [
              0.5555555555555556,
              "#d8576b"
             ],
             [
              0.6666666666666666,
              "#ed7953"
             ],
             [
              0.7777777777777778,
              "#fb9f3a"
             ],
             [
              0.8888888888888888,
              "#fdca26"
             ],
             [
              1,
              "#f0f921"
             ]
            ],
            "type": "histogram2dcontour"
           }
          ],
          "mesh3d": [
           {
            "colorbar": {
             "outlinewidth": 0,
             "ticks": ""
            },
            "type": "mesh3d"
           }
          ],
          "parcoords": [
           {
            "line": {
             "colorbar": {
              "outlinewidth": 0,
              "ticks": ""
             }
            },
            "type": "parcoords"
           }
          ],
          "pie": [
           {
            "automargin": true,
            "type": "pie"
           }
          ],
          "scatter": [
           {
            "marker": {
             "colorbar": {
              "outlinewidth": 0,
              "ticks": ""
             }
            },
            "type": "scatter"
           }
          ],
          "scatter3d": [
           {
            "line": {
             "colorbar": {
              "outlinewidth": 0,
              "ticks": ""
             }
            },
            "marker": {
             "colorbar": {
              "outlinewidth": 0,
              "ticks": ""
             }
            },
            "type": "scatter3d"
           }
          ],
          "scattercarpet": [
           {
            "marker": {
             "colorbar": {
              "outlinewidth": 0,
              "ticks": ""
             }
            },
            "type": "scattercarpet"
           }
          ],
          "scattergeo": [
           {
            "marker": {
             "colorbar": {
              "outlinewidth": 0,
              "ticks": ""
             }
            },
            "type": "scattergeo"
           }
          ],
          "scattergl": [
           {
            "marker": {
             "colorbar": {
              "outlinewidth": 0,
              "ticks": ""
             }
            },
            "type": "scattergl"
           }
          ],
          "scattermapbox": [
           {
            "marker": {
             "colorbar": {
              "outlinewidth": 0,
              "ticks": ""
             }
            },
            "type": "scattermapbox"
           }
          ],
          "scatterpolar": [
           {
            "marker": {
             "colorbar": {
              "outlinewidth": 0,
              "ticks": ""
             }
            },
            "type": "scatterpolar"
           }
          ],
          "scatterpolargl": [
           {
            "marker": {
             "colorbar": {
              "outlinewidth": 0,
              "ticks": ""
             }
            },
            "type": "scatterpolargl"
           }
          ],
          "scatterternary": [
           {
            "marker": {
             "colorbar": {
              "outlinewidth": 0,
              "ticks": ""
             }
            },
            "type": "scatterternary"
           }
          ],
          "surface": [
           {
            "colorbar": {
             "outlinewidth": 0,
             "ticks": ""
            },
            "colorscale": [
             [
              0,
              "#0d0887"
             ],
             [
              0.1111111111111111,
              "#46039f"
             ],
             [
              0.2222222222222222,
              "#7201a8"
             ],
             [
              0.3333333333333333,
              "#9c179e"
             ],
             [
              0.4444444444444444,
              "#bd3786"
             ],
             [
              0.5555555555555556,
              "#d8576b"
             ],
             [
              0.6666666666666666,
              "#ed7953"
             ],
             [
              0.7777777777777778,
              "#fb9f3a"
             ],
             [
              0.8888888888888888,
              "#fdca26"
             ],
             [
              1,
              "#f0f921"
             ]
            ],
            "type": "surface"
           }
          ],
          "table": [
           {
            "cells": {
             "fill": {
              "color": "#EBF0F8"
             },
             "line": {
              "color": "white"
             }
            },
            "header": {
             "fill": {
              "color": "#C8D4E3"
             },
             "line": {
              "color": "white"
             }
            },
            "type": "table"
           }
          ]
         },
         "layout": {
          "annotationdefaults": {
           "arrowcolor": "#2a3f5f",
           "arrowhead": 0,
           "arrowwidth": 1
          },
          "autotypenumbers": "strict",
          "coloraxis": {
           "colorbar": {
            "outlinewidth": 0,
            "ticks": ""
           }
          },
          "colorscale": {
           "diverging": [
            [
             0,
             "#8e0152"
            ],
            [
             0.1,
             "#c51b7d"
            ],
            [
             0.2,
             "#de77ae"
            ],
            [
             0.3,
             "#f1b6da"
            ],
            [
             0.4,
             "#fde0ef"
            ],
            [
             0.5,
             "#f7f7f7"
            ],
            [
             0.6,
             "#e6f5d0"
            ],
            [
             0.7,
             "#b8e186"
            ],
            [
             0.8,
             "#7fbc41"
            ],
            [
             0.9,
             "#4d9221"
            ],
            [
             1,
             "#276419"
            ]
           ],
           "sequential": [
            [
             0,
             "#0d0887"
            ],
            [
             0.1111111111111111,
             "#46039f"
            ],
            [
             0.2222222222222222,
             "#7201a8"
            ],
            [
             0.3333333333333333,
             "#9c179e"
            ],
            [
             0.4444444444444444,
             "#bd3786"
            ],
            [
             0.5555555555555556,
             "#d8576b"
            ],
            [
             0.6666666666666666,
             "#ed7953"
            ],
            [
             0.7777777777777778,
             "#fb9f3a"
            ],
            [
             0.8888888888888888,
             "#fdca26"
            ],
            [
             1,
             "#f0f921"
            ]
           ],
           "sequentialminus": [
            [
             0,
             "#0d0887"
            ],
            [
             0.1111111111111111,
             "#46039f"
            ],
            [
             0.2222222222222222,
             "#7201a8"
            ],
            [
             0.3333333333333333,
             "#9c179e"
            ],
            [
             0.4444444444444444,
             "#bd3786"
            ],
            [
             0.5555555555555556,
             "#d8576b"
            ],
            [
             0.6666666666666666,
             "#ed7953"
            ],
            [
             0.7777777777777778,
             "#fb9f3a"
            ],
            [
             0.8888888888888888,
             "#fdca26"
            ],
            [
             1,
             "#f0f921"
            ]
           ]
          },
          "colorway": [
           "#636efa",
           "#EF553B",
           "#00cc96",
           "#ab63fa",
           "#FFA15A",
           "#19d3f3",
           "#FF6692",
           "#B6E880",
           "#FF97FF",
           "#FECB52"
          ],
          "font": {
           "color": "#2a3f5f"
          },
          "geo": {
           "bgcolor": "white",
           "lakecolor": "white",
           "landcolor": "#E5ECF6",
           "showlakes": true,
           "showland": true,
           "subunitcolor": "white"
          },
          "hoverlabel": {
           "align": "left"
          },
          "hovermode": "closest",
          "mapbox": {
           "style": "light"
          },
          "paper_bgcolor": "white",
          "plot_bgcolor": "#E5ECF6",
          "polar": {
           "angularaxis": {
            "gridcolor": "white",
            "linecolor": "white",
            "ticks": ""
           },
           "bgcolor": "#E5ECF6",
           "radialaxis": {
            "gridcolor": "white",
            "linecolor": "white",
            "ticks": ""
           }
          },
          "scene": {
           "xaxis": {
            "backgroundcolor": "#E5ECF6",
            "gridcolor": "white",
            "gridwidth": 2,
            "linecolor": "white",
            "showbackground": true,
            "ticks": "",
            "zerolinecolor": "white"
           },
           "yaxis": {
            "backgroundcolor": "#E5ECF6",
            "gridcolor": "white",
            "gridwidth": 2,
            "linecolor": "white",
            "showbackground": true,
            "ticks": "",
            "zerolinecolor": "white"
           },
           "zaxis": {
            "backgroundcolor": "#E5ECF6",
            "gridcolor": "white",
            "gridwidth": 2,
            "linecolor": "white",
            "showbackground": true,
            "ticks": "",
            "zerolinecolor": "white"
           }
          },
          "shapedefaults": {
           "line": {
            "color": "#2a3f5f"
           }
          },
          "ternary": {
           "aaxis": {
            "gridcolor": "white",
            "linecolor": "white",
            "ticks": ""
           },
           "baxis": {
            "gridcolor": "white",
            "linecolor": "white",
            "ticks": ""
           },
           "bgcolor": "#E5ECF6",
           "caxis": {
            "gridcolor": "white",
            "linecolor": "white",
            "ticks": ""
           }
          },
          "title": {
           "x": 0.05
          },
          "xaxis": {
           "automargin": true,
           "gridcolor": "white",
           "linecolor": "white",
           "ticks": "",
           "title": {
            "standoff": 15
           },
           "zerolinecolor": "white",
           "zerolinewidth": 2
          },
          "yaxis": {
           "automargin": true,
           "gridcolor": "white",
           "linecolor": "white",
           "ticks": "",
           "title": {
            "standoff": 15
           },
           "zerolinecolor": "white",
           "zerolinewidth": 2
          }
         }
        },
        "title": {
         "text": "Power Plant Map",
         "x": 0.5
        }
       }
      },
      "text/html": [
       "<div>                            <div id=\"586b8f2b-adf7-43dd-8074-1b5feee1b0cc\" class=\"plotly-graph-div\" style=\"height:525px; width:100%;\"></div>            <script type=\"text/javascript\">                require([\"plotly\"], function(Plotly) {                    window.PLOTLYENV=window.PLOTLYENV || {};                                    if (document.getElementById(\"586b8f2b-adf7-43dd-8074-1b5feee1b0cc\")) {                    Plotly.newPlot(                        \"586b8f2b-adf7-43dd-8074-1b5feee1b0cc\",                        [{\"geo\":\"geo\",\"hovertemplate\":\"<b>%{hovertext}</b><br><br>Lat=%{lat}<br>Lon=%{lon}<extra></extra>\",\"hovertext\":[\"Clinton Power Station\",\"Joliet 29\",\"E D Edwards\",\"Sterling Avenue\",\"Coffeen\",\"Grand Tower Energy Center LLC\",\"Hutsonville\",\"Meredosia\",\"Bloom\",\"Calumet\",\"Crawford\",\"Dresden Generating Station\",\"Electric Junction\",\"Joliet 9\",\"Kincaid Generation LLC\",\"Lombard\",\"Powerton\",\"Quad Cities Generating Station\",\"Sabrooke\",\"Waukegan\",\"Will County\",\"Fisk Street\",\"Joppa Steam\",\"Baldwin Energy Complex\",\"Havana\",\"Hennepin Power Station\",\"Oglesby\",\"Stallings\",\"Vermilion\",\"Wood River\",\"Moline\",\"Rockton\",\"Venice\",\"Breese\",\"Bushnell\",\"Carlyle\",\"Carmi\",\"Fairfield\",\"Farmer City\",\"Freeburg\",\"Geneseo\",\"Highland\",\"McLeansboro\",\"Marshall (IL)\",\"Mascoutah\",\"Peru (IL)\",\"Princeton (IL)\",\"Rantoul\",\"Red Bud\",\"North Ninth Street\",\"South Main Street\",\"Dallman\",\"Lakeside\",\"Reynolds\",\"Sullivan (IL)\",\"Waterloo\",\"Winnetka\",\"Marion\",\"KMS Joliet Power Partners LP\",\"Duck Creek\",\"Newton\",\"Braidwood Generation Station\",\"Byron Generating Station\",\"Collins\",\"LaSalle Generating Station\",\"Pittsfield\",\"Pearl Station\",\"Indian Trails Cogen 1\",\"Interstate\",\"Upper Sterling\",\"State Farm\",\"Tilton\",\"1515 S Caron Road\",\"Alsey\",\"Freedom Power Project\",\"Avenue A Generator Sets\",\"MEPI GT Facility\",\"Parkside\",\"Gillum\",\"Hallock\",\"Kickapoo\",\"Industrial Park\",\"Altamont\",\"Factory\",\"John Deere Harvester Works\",\"Entenmanns Cogeneration Facility\",\"Little Company of Mary Hospital\",\"Alsip Paper Condominium Association\",\"Klein Tools Chicago\",\"Dayton Hydro\",\"Archer Daniels Midland Decatur\",\"Archer Daniels Midland Peoria\",\"Tate & Lyle Decatur Plant Cogen\",\"Lockport Powerhouse\",\"Nalco\",\"Stickney Water Reclamation Plant\",\"Chicago Baking\",\"Settlers Hill Gas Recovery\",\"Milam Gas Recovery\",\"CID Gas Recovery\",\"Lake Gas Recovery\",\"ExxonMobil Oil Joliet Refinery\",\"Tazewell Gas Recovery\",\"INEOS Naperville Cogeneration Plant\",\"Fox Metro Water Reclamation District\",\"Sherman Hospital\",\"Ingersoll Milling Machine\",\"Bunge Milling Cogen\",\"ITT Cogen Facility\",\"IVEX Packaging\",\"Bunge Oil\",\"Illinois Refining Division\",\"University of Illinois Cogen Facility\",\"Chicago\",\"Fuyao Glass Illinois Inc.\",\"Art Institute of Chicago\",\"WestRock (IL)\",\"Hoffer Plastics\",\"Kankakee Hydro Facility\",\"Charter Dura-Bar\",\"Ingredion Incorporated\",\"Kankakee Gas Recovery\",\"Woodland Landfill Gas Recovery\",\"Pekin Paperboard\",\"University of Illinois Abbott Power Plt\",\"Evanston Township High School\",\"CSL Behring LLC\",\"Duraco Products\",\"Mars Snackfood US\",\"Presence Saint Mary of Nazareth Hospital\",\"General Mills West Chicago\",\"Panduit Tinley Park\",\"Mondelez Global LLC\",\"Phelps Dodge Chicago Rod\",\"Dixon Hydroelectric Dam\",\"Woodridge Greene Valley Treatment Plant\",\"Thornwood High School\",\"Thornridge High School\",\"Greene Valley Gas Recovery\",\"Livingston Generating Facility\",\"Biodyne Beecher\",\"Biodyne Congress\",\"Biodyne Peoria\",\"Biodyne Springfield\",\"Biodyne Lyons\",\"MPEA Energy Center\",\"Rocky Road Power LLC\",\"Kendall County Generation Facility\",\"Geneva Energy LLC\",\"Nelson Energy Center\",\"Cordova Energy\",\"Elwood Energy LLC\",\"Gibson City Energy Center LLC\",\"Pinckneyville\",\"Kinmundy\",\"Morris Cogeneration LLC\",\"Lincoln Generating Facility\",\"Lee Energy Facility\",\"Energy Shelby County\",\"NRG Rockford I\",\"Tuscola Station\",\"University Park South\",\"Crete Energy Venture LLC\",\"Aurora\",\"Southeast Chicago Energy Project\",\"Calumet Energy Team LLC\",\"Holland Energy Facility\",\"Zion Energy Center\",\"Raccoon Creek Energy Center\",\"Elgin Energy Center LLC\",\"Goose Creek Energy Center\",\"Rockford Electric\",\"Mallard Lake Electric\",\"Quad Cities\",\"South Barrington Electric\",\"University Park North\",\"KMS Macon Power\",\"Roxana Resource Recovery\",\"Streator Energy Partners LLC\",\"Devonshire Power Partners LLC\",\"Brickyard Energy Partners LLC\",\"Dixon/Lee Energy Partners LLC\",\"Upper Rock Energy Partners LLC\",\"Riveside Resource Recovery LLC\",\"Avon Energy Partners LLC\",\"Mas Countryside RNG, LLC\",\"Morris Genco LLC\",\"Prairie State Generating Station\",\"NRG Rockford II Energy Center\",\"Casey City of\",\"IMEA Highland\",\"IMEA Waterloo\",\"IMEA Flora\",\"Flora Site A\",\"Flora Site B\",\"Mendota Hills, LLC\",\"BNWRD\",\"Crescent Ridge\",\"High Trail Wind Farm LLC\",\"Pike County Wind Power\",\"Agriwind\",\"Westchester Gas Recovery\",\"Des Plaines Gas Recovery\",\"Beecher Gas Recovery\",\"GSG LLC\",\"Geneva Generation Facility\",\"Five Oaks Gas Recovery\",\"Old Trail Wind Farm\",\"Providence Heights Wind LLC\",\"Camp Grove Wind Farm\",\"Winnebago Energy Center LLC\",\"EcoGrove Wind LLC\",\"Rail Splitter Wind Farm\",\"Zion Landfill Gas to Energy Facility\",\"Grand Ridge Wind Energy Center\",\"Sears Hydroelectric Plant\",\"Granite City Works\",\"Streator Cayuga Ridge South\",\"Blackstone Wind Farm LLC\",\"Blackstone Wind Farm II LLC\",\"Big Sky Wind LLC\",\"Exelon Solar Chicago\",\"Minonk Wind Farm\",\"FPL Energy Illinois Wind LLC Hybrid\",\"White Oak Energy LLC\",\"Prairie View IL\",\"Bishop Hill Energy LLC\",\"Settlers Trail Wind Farm LLC\",\"Bright Stalk Wind Farm I\",\"Pioneer Trail Wind Farm, LLC\",\"Brown County Wind Turbine\",\"Grand Ridge Solar Farm\",\"Jacksonville Developmental Center\",\"SIUC\",\"Shady Oaks Wind Farm\",\"California Ridge Wind Energy LLC\",\"Bishop Hill II Wind Farm\",\"Adkins Energy LLC\",\"Kishwaukee CHP Plant\",\"Loyola University Health Plant\",\"Northeastern Illinois University Cogen\",\"North Chicago Energy Center\",\"Triton East and West Cogen\",\"Rochelle Energy Center\",\"Rockford Solar Farm\",\"Walnut Ridge Wind Farm\",\"Com Adam 1WF-1\",\"Pilot Hill Wind Farm\",\"Sugar Creek Wind One LLC\",\"Lincoln Land Wind\",\"Hoopeston Wind LLC\",\"Radfords Run Wind Farm\",\"Clinton LFGTE\",\"Heartland Community College\",\"Orchard Hills Renewable Energy Station\",\"Chicago West Side Energy Center\",\"Northwest Community Hospital\",\"Great Lakes Central Power Plant\",\"Cardinal Point LLC\",\"Grand Ridge Battery Projects\",\"Elwood Energy Storage Center\",\"Jake Energy Storage Center\",\"Green River Wind Farm\",\"Kelly Creek Wind Project\",\"McHenry Battery Storage\",\"Argonne National Laboratory CHP\",\"Lake Forest Hospital Central Energy Plant\",\"Harvest Ridge  Wind Farm\",\"IKEA Joliet Rooftop PV System\",\"Otter Creek Wind Farm LLC\",\"Hilltopper Wind Project\",\"Bishop Hill III\",\"John A Logan College Solar\",\"TAC-Distributed Energy Resource Hybrid\",\"Prairie State Solar Project\",\"Rantoul Solar\",\"Whitney Hill Wind Power LLC\",\"CED Champaign Solar LLC\",\"Phoenix Solar South Farms LLC Solar Farm\",\"Marengo Battery Storage LLC\",\"Prairie Wolf Solar LLC\",\"Harmony Road Solar\",\"Square Barn Solar\",\"Reed Road Solar\",\"Mooseheart School Solar\",\"Lone Tree Wind, LLC\",\"Bennington Wind\",\"Galesburg Solar Array\",\"Illinois PV Fulton 1 CSG\",\"Lineage Logistics Solar\",\"ESIL-PFCHICAGO 3, LLC\",\"ESIL-PFCHICAGO 2, LLC\",\"Clinton Solar 4 LLC CSG\",\"Vermilion Solar 1, LLC CSG\",\"Ridge Farm\",\"Blooming Grove Wind Energy Center\",\"Route 76 Boone Solar 1\",\"Apple Canyon Lake Solar\",\"2662 Freeport Solar 1 CSG\",\"Whiteside Solar 1 CSG\",\"Morgan Solar 4, LLC CSG\",\"Marlow Solar, LLC CSG\",\"IGS Stockton DG CSG\",\"Morgan Solar 2, LLC CSG\",\"McDonough Solar 1, LLC CSG\",\"Dressor Plains Solar, LLC\",\"Blue Goose Solar CSG\",\"Iroquois Solar 1B LLC CSG\",\"Sullivan B Community Solar LLC\",\"Kent School Road Solar 1\",\"Schulte 2 Community Solar\",\"Kankakee Solar 4 LLC\",\"Lafayette 2 - McHenry Franks 1\",\"Lafayette 2 - McHenry Franks 2\",\"Lafayette 2 - Kankakee Yonke\",\"AES Griggs Solar, LLC\",\"IGS East Central, LLC\",\"SV CSG Lily Lake 2 LLC\",\"Cedarville Road\",\"SCS American Bottoms 009885 Sauget, LLC\",\"SCS Beltway 011754 Rock Falls, LLC\",\"Mooseheart School - (IL)\",\"Glacier Sands Wind Power, LLC\"],\"lat\":[\"40.1719\",\"41.494636\",\"40.5958\",\"40.625278\",\"39.0586\",\"37.6577\",\"39.1333\",\"39.82333\",\"42.057222\",\"41.713611\",\"41.82848\",\"41.39\",\"41.773889\",\"41.4931\",\"39.590556\",\"41.89\",\"40.5408\",\"41.726111\",\"42.216944\",\"42.3833\",\"41.6334\",\"41.8508\",\"37.2094\",\"38.205\",\"40.2797\",\"41.3028\",\"41.2897\",\"38.7314\",\"40.1781\",\"38.8639\",\"41.509959\",\"42.4511\",\"38.6642\",\"38.607456\",\"40.548586\",\"38.6106\",\"38.0967\",\"38.380709\",\"40.24611\",\"38.425556\",\"41.451494\",\"38.7412\",\"38.094683\",\"39.392138\",\"38.484444\",\"41.3237\",\"41.375528\",\"40.312222\",\"38.2165\",\"41.9093\",\"41.9092\",\"39.754803\",\"39.757327\",\"39.806868\",\"39.596667\",\"38.334786\",\"42.115589\",\"37.619747\",\"41.499167\",\"40.4663\",\"38.9361\",\"41.2435\",\"42.0742\",\"41.346111\",\"41.245498\",\"39.6436\",\"39.449185\",\"40.557686\",\"39.8233\",\"41.787115\",\"40.4535\",\"40.106125\",\"41.9084\",\"39.569771\",\"39.103333\",\"41.780735\",\"37.2175\",\"40.5308\",\"40.4728\",\"40.5325\",\"40.398056\",\"41.768199\",\"39.068747\",\"39.825934\",\"41.524315\",\"41.906944\",\"41.72086\",\"41.666667\",\"41.9939\",\"41.387792\",\"39.870074\",\"40.677188\",\"39.84919\",\"41.5697\",\"41.800909\",\"41.815833\",\"41.791667\",\"41.871914\",\"38.6603\",\"41.658794\",\"42.10625\",\"41.4167\",\"40.6817\",\"41.8108\",\"41.7128\",\"42.0544\",\"42.298938\",\"40.128889\",\"41.83442\",\"41.518056\",\"41.15461\",\"39.004722\",\"41.8675\",\"41.812222\",\"39.77896\",\"41.879444\",\"41.7697\",\"41.998889\",\"41.1128\",\"42.2891\",\"41.7775\",\"41.0333\",\"41.981004\",\"40.551389\",\"40.105169\",\"42.044038\",\"41.1603\",\"41.9875\",\"41.91708\",\"41.9031\",\"41.8794\",\"41.5776\",\"42.3156\",\"41.853611\",\"41.845306\",\"41.74\",\"41.5839\",\"41.6225\",\"41.73379\",\"40.9314\",\"41.391389\",\"41.871667\",\"40.7942\",\"39.856389\",\"41.7989\",\"41.852709\",\"42.0931\",\"41.4797\",\"41.5001\",\"41.774444\",\"41.712216\",\"41.4388\",\"40.4705\",\"38.1114\",\"38.7619\",\"41.411944\",\"41.393315\",\"41.8287\",\"39.2794\",\"42.238558\",\"39.798175\",\"41.440893\",\"41.429444\",\"41.8151\",\"41.7181\",\"41.6835\",\"39.223144\",\"42.4776\",\"38.6996\",\"42.000061\",\"40.106931\",\"42.108333\",\"41.952742\",\"41.374444\",\"42.0797\",\"41.4425\",\"39.823889\",\"38.8311\",\"41.0919\",\"41.645\",\"40.1003\",\"41.737507\",\"41.5367\",\"41.685\",\"41.674167\",\"42.321111\",\"41.377628\",\"38.279167\",\"42.2383\",\"39.310555\",\"38.7417\",\"38.3344\",\"38.6658\",\"38.6693\",\"38.6714\",\"41.7194\",\"40.380556\",\"41.25\",\"40.4792\",\"39.6189\",\"41.3017\",\"41.834878\",\"42.067125\",\"41.38109\",\"41.643611\",\"41.8911\",\"39.5678\",\"40.4792\",\"41.2294\",\"41.090583\",\"42.1589\",\"42.451481\",\"40.3692\",\"42.4803\",\"41.2269\",\"41.4614\",\"38.6972\",\"40.9969\",\"41.1508\",\"41.1406\",\"41.599167\",\"41.6758\",\"40.888611\",\"41.7678\",\"40.590833\",\"41.343056\",\"41.215278\",\"40.694444\",\"40.701241\",\"40.46405\",\"39.973333\",\"41.143421\",\"39.716667\",\"37.711944\",\"41.666944\",\"40.211667\",\"41.2325\",\"42.362222\",\"42.221944\",\"41.855833\",\"41.981111\",\"42.306389\",\"41.916944\",\"41.924722\",\"42.175278\",\"41.496667\",\"41.660278\",\"40.999169\",\"40.074167\",\"39.821944\",\"40.399722\",\"40.011111\",\"40.120833\",\"40.537\",\"42.1424\",\"41.870751\",\"42.067753\",\"42.31\",\"40.588568\",\"41.2269\",\"41.896873\",\"41.488679\",\"41.620264\",\"40.9675\",\"42.331411\",\"41.716534\",\"42.25416\",\"39.83188\",\"41.48\",\"41.055385\",\"39.952927\",\"41.211057\",\"37.750571\",\"40.089797\",\"38.208333\",\"40.286726\",\"39.952927\",\"40.138283\",\"40.081738\",\"42.252733\",\"39.544605\",\"42.164\",\"42.164\",\"42.110925\",\"41.8233\",\"41.203214\",\"40.96038\",\"40.9199\",\"40.698522\",\"41.455\",\"41.849\",\"41.817\",\"38.59587\",\"40.12437\",\"39.88821\",\"40.661079\",\"42.41894\",\"42.436665\",\"42.339696\",\"41.85691\",\"39.61409\",\"38.315279\",\"42.348183\",\"39.606529\",\"40.555424\",\"39.186321\",\"41.769376\",\"40.774047\",\"40.469681\",\"42.312841\",\"41.032235\",\"41.119258\",\"42.251568\",\"42.214828\",\"41.097265\",\"41.19128\",\"41.471715\",\"41.954902\",\"42.37195\",\"38.591745\",\"41.767012\",\"41.823403\",\"40.261377\"],\"legendgroup\":\"\",\"lon\":[\"-88.8339\",\"-88.123827\",\"-89.6631\",\"89.631111\",\"-89.4031\",\"-89.511161\",\"-87.6597\",\"-90.56722\",\"87.869444\",\"87.542778\",\"-87.72291\",\"-88.27\",\"88.263056\",\"-88.1153\",\"-89.496389\",\"88.061667\",\"-89.6786\",\"-90.310278\",\"89.052222\",\"-87.8133\",\"-88.0629\",\"-87.6533\",\"-88.858889\",\"-89.8544\",\"-90.08\",\"-89.315\",\"-89.0725\",\"-90.0461\",\"-87.7481\",\"-90.1347\",\"-90.534021\",\"-89.0756\",\"-90.1764\",\"-89.524514\",\"-90.513814\",\"-89.3583\",\"-88.1631\",\"-88.366006\",\"-88.638761\",\"-89.914444\",\"-90.148547\",\"-89.6849\",\"-88.541331\",\"-87.68513\",\"-88.200833\",\"-89.1123\",\"-89.464872\",\"-88.159444\",\"-89.9992\",\"-89.0498\",\"-89.0504\",\"-89.602389\",\"-89.600512\",\"-89.641653\",\"-88.611944\",\"-90.158939\",\"-87.731025\",\"-88.953114\",\"88.146389\",\"-89.9841\",\"-88.2781\",\"-88.2286\",\"-89.2819\",\"88.392778\",\"-88.669066\",\"-90.6353\",\"-90.614119\",\"-89.66699\",\"-89.5891\",\"-89.677526\",\"-88.9605\",\"-87.653818\",\"-89.0466\",\"-90.43602\",\"-88.85898\",\"-89.689416\",\"-88.8661\",\"-88.9839\",\"-88.9919\",\"89.533056\",\"89.3875\",\"-89.674385\",\"-88.755547\",\"-89.637282\",\"-90.43659\",\"87.918611\",\"-87.692\",\"87.733333\",\"-87.699722\",\"-88.789656\",\"-88.890756\",\"-89.604911\",\"-88.931944\",\"-88.0789\",\"-88.197156\",\"87.765\",\"87.625\",\"-88.287721\",\"-90.1317\",\"-87.577716\",\"-87.813738\",\"-88.1833\",\"-89.5167\",\"-88.1486\",\"-88.3522\",\"-88.2817\",\"-89.075925\",\"-86.374722\",\"-87.628465\",\"-87.945556\",\"-87.85478\",\"87.723611\",\"-87.6524\",\"87.654722\",\"-88.901629\",\"87.622222\",\"-88.28\",\"-88.302222\",\"-87.8681\",\"-88.413\",\"-87.8233\",\"-87.8678\",\"-88.27452\",\"89.668611\",\"-88.241528\",\"-87.699556\",\"-87.8542\",\"88.164444\",\"-87.79218\",\"-87.6831\",\"-88.22\",\"-87.7704\",\"-89.0356\",\"87.7375\",\"-89.481286\",\"-88.06\",\"-87.6047\",\"-87.5978\",\"-88.084908\",\"-88.6548\",\"87.6375\",\"87.886111\",\"-89.8436\",\"89.619444\",\"-87.825\",\"-87.61851\",\"-88.2397\",\"-88.2581\",\"-87.5958\",\"-89.607222\",\"-90.279679\",\"-88.1236\",\"-88.3987\",\"-89.3467\",\"-89.0128\",\"-88.332778\",\"-87.943612\",\"-89.4054\",\"-88.4772\",\"-89.101202\",\"-88.349771\",\"-87.753189\",\"-87.6187\",\"-88.2265\",\"-87.5449\",\"-87.5563\",\"-88.758406\",\"-87.895\",\"-88.5392\",\"-88.244572\",\"-88.599867\",\"89.103889\",\"-88.143737\",\"90.522222\",\"-88.1386\",\"-87.7514\",\"89.05\",\"-90.0119\",\"-88.8519\",\"-86.398889\",\"-87.6111\",\"-89.384821\",\"-90.3761\",\"-88.05\",\"-86.421389\",\"-88.031944\",\"-88.401212\",\"-89.666944\",\"-89.1011\",\"-87.992592\",\"-89.6847\",\"-90.1588\",\"-88.4625\",\"-88.4635\",\"-88.4894\",\"-89.0492\",\"-88.960278\",\"-89.5708\",\"-88.7989\",\"-90.8461\",\"-89.6236\",\"-87.916319\",\"-87.886172\",\"-87.637542\",\"-89.173056\",\"-88.2711\",\"-89.3683\",\"-88.7989\",\"-89.5572\",\"-89.639811\",\"-89.0625\",\"-89.878428\",\"-89.4022\",\"-87.8861\",\"-88.6836\",\"-90.5803\",\"-90.1283\",\"-88.49\",\"-88.6233\",\"-88.53\",\"-89.456111\",\"-87.6514\",\"-88.997222\",\"-88.8867\",\"-89.046666\",\"-88.101389\",\"-90.120833\",\"-87.570833\",\"-88.701054\",\"-88.021517\",\"-90.699166\",\"-88.758341\",\"-90.237222\",\"-89.215\",\"-89.059722\",\"-87.878333\",\"-90.174167\",\"-89.803611\",\"-89.093333\",\"-87.835556\",\"-87.719167\",\"-87.851944\",\"-87.845556\",\"-88.998611\",\"-89.088333\",\"-89.580278\",\"-89.249722\",\"-88.056247\",\"-89.291944\",\"-89.955833\",\"-87.799167\",\"-89.047222\",\"-88.961111\",\"-89.019\",\"-89.079\",\"-87.678378\",\"-87.993492\",\"-87.83\",\"-90.751828\",\"-88.6836\",\"-88.222718\",\"-88.108757\",\"-89.557033\",\"-88.1975\",\"-88.274352\",\"-87.970608\",\"-87.864282\",\"-88.072302\",\"-88.07\",\"-88.993862\",\"-89.310249\",\"-90.276024\",\"-89.085297\",\"-88.243573\",\"-89.579166\",\"-88.132797\",\"-89.310249\",\"-88.291246\",\"-88.244498\",\"-88.639983\",\"-87.97198\",\"-88.4625\",\"-88.383\",\"-88.240254\",\"-88.3378\",\"-89.601872\",\"-89.085363\",\"-90.9484\",\"-89.967943\",\"-87.752\",\"-87.669\",\"-87.735\",\"-89.2751\",\"-87.6292\",\"-87.68593\",\"-88.395079\",\"-88.846141\",\"-90.179581\",\"-89.632719\",\"-90.15885\",\"-90.22076\",\"-88.756379\",\"-90.011235\",\"-90.227099\",\"-90.851133\",\"-89.03123\",\"-89.843327\",\"-87.754371\",\"-90.641075\",\"-89.903444\",\"-89.405223\",\"-87.826519\",\"-88.596711\",\"-88.491906\",\"-87.869294\",\"-87.666461\",\"-88.043725\",\"-88.478372\",\"-89.80797\",\"-90.183286\",\"-89.670331\",\"-88.338303\",\"-89.700876\"],\"marker\":{\"color\":\"#636efa\",\"symbol\":\"circle\"},\"mode\":\"markers\",\"name\":\"\",\"showlegend\":false,\"type\":\"scattergeo\"}],                        {\"template\":{\"data\":{\"bar\":[{\"error_x\":{\"color\":\"#2a3f5f\"},\"error_y\":{\"color\":\"#2a3f5f\"},\"marker\":{\"line\":{\"color\":\"#E5ECF6\",\"width\":0.5},\"pattern\":{\"fillmode\":\"overlay\",\"size\":10,\"solidity\":0.2}},\"type\":\"bar\"}],\"barpolar\":[{\"marker\":{\"line\":{\"color\":\"#E5ECF6\",\"width\":0.5},\"pattern\":{\"fillmode\":\"overlay\",\"size\":10,\"solidity\":0.2}},\"type\":\"barpolar\"}],\"carpet\":[{\"aaxis\":{\"endlinecolor\":\"#2a3f5f\",\"gridcolor\":\"white\",\"linecolor\":\"white\",\"minorgridcolor\":\"white\",\"startlinecolor\":\"#2a3f5f\"},\"baxis\":{\"endlinecolor\":\"#2a3f5f\",\"gridcolor\":\"white\",\"linecolor\":\"white\",\"minorgridcolor\":\"white\",\"startlinecolor\":\"#2a3f5f\"},\"type\":\"carpet\"}],\"choropleth\":[{\"colorbar\":{\"outlinewidth\":0,\"ticks\":\"\"},\"type\":\"choropleth\"}],\"contour\":[{\"colorbar\":{\"outlinewidth\":0,\"ticks\":\"\"},\"colorscale\":[[0.0,\"#0d0887\"],[0.1111111111111111,\"#46039f\"],[0.2222222222222222,\"#7201a8\"],[0.3333333333333333,\"#9c179e\"],[0.4444444444444444,\"#bd3786\"],[0.5555555555555556,\"#d8576b\"],[0.6666666666666666,\"#ed7953\"],[0.7777777777777778,\"#fb9f3a\"],[0.8888888888888888,\"#fdca26\"],[1.0,\"#f0f921\"]],\"type\":\"contour\"}],\"contourcarpet\":[{\"colorbar\":{\"outlinewidth\":0,\"ticks\":\"\"},\"type\":\"contourcarpet\"}],\"heatmap\":[{\"colorbar\":{\"outlinewidth\":0,\"ticks\":\"\"},\"colorscale\":[[0.0,\"#0d0887\"],[0.1111111111111111,\"#46039f\"],[0.2222222222222222,\"#7201a8\"],[0.3333333333333333,\"#9c179e\"],[0.4444444444444444,\"#bd3786\"],[0.5555555555555556,\"#d8576b\"],[0.6666666666666666,\"#ed7953\"],[0.7777777777777778,\"#fb9f3a\"],[0.8888888888888888,\"#fdca26\"],[1.0,\"#f0f921\"]],\"type\":\"heatmap\"}],\"heatmapgl\":[{\"colorbar\":{\"outlinewidth\":0,\"ticks\":\"\"},\"colorscale\":[[0.0,\"#0d0887\"],[0.1111111111111111,\"#46039f\"],[0.2222222222222222,\"#7201a8\"],[0.3333333333333333,\"#9c179e\"],[0.4444444444444444,\"#bd3786\"],[0.5555555555555556,\"#d8576b\"],[0.6666666666666666,\"#ed7953\"],[0.7777777777777778,\"#fb9f3a\"],[0.8888888888888888,\"#fdca26\"],[1.0,\"#f0f921\"]],\"type\":\"heatmapgl\"}],\"histogram\":[{\"marker\":{\"pattern\":{\"fillmode\":\"overlay\",\"size\":10,\"solidity\":0.2}},\"type\":\"histogram\"}],\"histogram2d\":[{\"colorbar\":{\"outlinewidth\":0,\"ticks\":\"\"},\"colorscale\":[[0.0,\"#0d0887\"],[0.1111111111111111,\"#46039f\"],[0.2222222222222222,\"#7201a8\"],[0.3333333333333333,\"#9c179e\"],[0.4444444444444444,\"#bd3786\"],[0.5555555555555556,\"#d8576b\"],[0.6666666666666666,\"#ed7953\"],[0.7777777777777778,\"#fb9f3a\"],[0.8888888888888888,\"#fdca26\"],[1.0,\"#f0f921\"]],\"type\":\"histogram2d\"}],\"histogram2dcontour\":[{\"colorbar\":{\"outlinewidth\":0,\"ticks\":\"\"},\"colorscale\":[[0.0,\"#0d0887\"],[0.1111111111111111,\"#46039f\"],[0.2222222222222222,\"#7201a8\"],[0.3333333333333333,\"#9c179e\"],[0.4444444444444444,\"#bd3786\"],[0.5555555555555556,\"#d8576b\"],[0.6666666666666666,\"#ed7953\"],[0.7777777777777778,\"#fb9f3a\"],[0.8888888888888888,\"#fdca26\"],[1.0,\"#f0f921\"]],\"type\":\"histogram2dcontour\"}],\"mesh3d\":[{\"colorbar\":{\"outlinewidth\":0,\"ticks\":\"\"},\"type\":\"mesh3d\"}],\"parcoords\":[{\"line\":{\"colorbar\":{\"outlinewidth\":0,\"ticks\":\"\"}},\"type\":\"parcoords\"}],\"pie\":[{\"automargin\":true,\"type\":\"pie\"}],\"scatter\":[{\"marker\":{\"colorbar\":{\"outlinewidth\":0,\"ticks\":\"\"}},\"type\":\"scatter\"}],\"scatter3d\":[{\"line\":{\"colorbar\":{\"outlinewidth\":0,\"ticks\":\"\"}},\"marker\":{\"colorbar\":{\"outlinewidth\":0,\"ticks\":\"\"}},\"type\":\"scatter3d\"}],\"scattercarpet\":[{\"marker\":{\"colorbar\":{\"outlinewidth\":0,\"ticks\":\"\"}},\"type\":\"scattercarpet\"}],\"scattergeo\":[{\"marker\":{\"colorbar\":{\"outlinewidth\":0,\"ticks\":\"\"}},\"type\":\"scattergeo\"}],\"scattergl\":[{\"marker\":{\"colorbar\":{\"outlinewidth\":0,\"ticks\":\"\"}},\"type\":\"scattergl\"}],\"scattermapbox\":[{\"marker\":{\"colorbar\":{\"outlinewidth\":0,\"ticks\":\"\"}},\"type\":\"scattermapbox\"}],\"scatterpolar\":[{\"marker\":{\"colorbar\":{\"outlinewidth\":0,\"ticks\":\"\"}},\"type\":\"scatterpolar\"}],\"scatterpolargl\":[{\"marker\":{\"colorbar\":{\"outlinewidth\":0,\"ticks\":\"\"}},\"type\":\"scatterpolargl\"}],\"scatterternary\":[{\"marker\":{\"colorbar\":{\"outlinewidth\":0,\"ticks\":\"\"}},\"type\":\"scatterternary\"}],\"surface\":[{\"colorbar\":{\"outlinewidth\":0,\"ticks\":\"\"},\"colorscale\":[[0.0,\"#0d0887\"],[0.1111111111111111,\"#46039f\"],[0.2222222222222222,\"#7201a8\"],[0.3333333333333333,\"#9c179e\"],[0.4444444444444444,\"#bd3786\"],[0.5555555555555556,\"#d8576b\"],[0.6666666666666666,\"#ed7953\"],[0.7777777777777778,\"#fb9f3a\"],[0.8888888888888888,\"#fdca26\"],[1.0,\"#f0f921\"]],\"type\":\"surface\"}],\"table\":[{\"cells\":{\"fill\":{\"color\":\"#EBF0F8\"},\"line\":{\"color\":\"white\"}},\"header\":{\"fill\":{\"color\":\"#C8D4E3\"},\"line\":{\"color\":\"white\"}},\"type\":\"table\"}]},\"layout\":{\"annotationdefaults\":{\"arrowcolor\":\"#2a3f5f\",\"arrowhead\":0,\"arrowwidth\":1},\"autotypenumbers\":\"strict\",\"coloraxis\":{\"colorbar\":{\"outlinewidth\":0,\"ticks\":\"\"}},\"colorscale\":{\"diverging\":[[0,\"#8e0152\"],[0.1,\"#c51b7d\"],[0.2,\"#de77ae\"],[0.3,\"#f1b6da\"],[0.4,\"#fde0ef\"],[0.5,\"#f7f7f7\"],[0.6,\"#e6f5d0\"],[0.7,\"#b8e186\"],[0.8,\"#7fbc41\"],[0.9,\"#4d9221\"],[1,\"#276419\"]],\"sequential\":[[0.0,\"#0d0887\"],[0.1111111111111111,\"#46039f\"],[0.2222222222222222,\"#7201a8\"],[0.3333333333333333,\"#9c179e\"],[0.4444444444444444,\"#bd3786\"],[0.5555555555555556,\"#d8576b\"],[0.6666666666666666,\"#ed7953\"],[0.7777777777777778,\"#fb9f3a\"],[0.8888888888888888,\"#fdca26\"],[1.0,\"#f0f921\"]],\"sequentialminus\":[[0.0,\"#0d0887\"],[0.1111111111111111,\"#46039f\"],[0.2222222222222222,\"#7201a8\"],[0.3333333333333333,\"#9c179e\"],[0.4444444444444444,\"#bd3786\"],[0.5555555555555556,\"#d8576b\"],[0.6666666666666666,\"#ed7953\"],[0.7777777777777778,\"#fb9f3a\"],[0.8888888888888888,\"#fdca26\"],[1.0,\"#f0f921\"]]},\"colorway\":[\"#636efa\",\"#EF553B\",\"#00cc96\",\"#ab63fa\",\"#FFA15A\",\"#19d3f3\",\"#FF6692\",\"#B6E880\",\"#FF97FF\",\"#FECB52\"],\"font\":{\"color\":\"#2a3f5f\"},\"geo\":{\"bgcolor\":\"white\",\"lakecolor\":\"white\",\"landcolor\":\"#E5ECF6\",\"showlakes\":true,\"showland\":true,\"subunitcolor\":\"white\"},\"hoverlabel\":{\"align\":\"left\"},\"hovermode\":\"closest\",\"mapbox\":{\"style\":\"light\"},\"paper_bgcolor\":\"white\",\"plot_bgcolor\":\"#E5ECF6\",\"polar\":{\"angularaxis\":{\"gridcolor\":\"white\",\"linecolor\":\"white\",\"ticks\":\"\"},\"bgcolor\":\"#E5ECF6\",\"radialaxis\":{\"gridcolor\":\"white\",\"linecolor\":\"white\",\"ticks\":\"\"}},\"scene\":{\"xaxis\":{\"backgroundcolor\":\"#E5ECF6\",\"gridcolor\":\"white\",\"gridwidth\":2,\"linecolor\":\"white\",\"showbackground\":true,\"ticks\":\"\",\"zerolinecolor\":\"white\"},\"yaxis\":{\"backgroundcolor\":\"#E5ECF6\",\"gridcolor\":\"white\",\"gridwidth\":2,\"linecolor\":\"white\",\"showbackground\":true,\"ticks\":\"\",\"zerolinecolor\":\"white\"},\"zaxis\":{\"backgroundcolor\":\"#E5ECF6\",\"gridcolor\":\"white\",\"gridwidth\":2,\"linecolor\":\"white\",\"showbackground\":true,\"ticks\":\"\",\"zerolinecolor\":\"white\"}},\"shapedefaults\":{\"line\":{\"color\":\"#2a3f5f\"}},\"ternary\":{\"aaxis\":{\"gridcolor\":\"white\",\"linecolor\":\"white\",\"ticks\":\"\"},\"baxis\":{\"gridcolor\":\"white\",\"linecolor\":\"white\",\"ticks\":\"\"},\"bgcolor\":\"#E5ECF6\",\"caxis\":{\"gridcolor\":\"white\",\"linecolor\":\"white\",\"ticks\":\"\"}},\"title\":{\"x\":0.05},\"xaxis\":{\"automargin\":true,\"gridcolor\":\"white\",\"linecolor\":\"white\",\"ticks\":\"\",\"title\":{\"standoff\":15},\"zerolinecolor\":\"white\",\"zerolinewidth\":2},\"yaxis\":{\"automargin\":true,\"gridcolor\":\"white\",\"linecolor\":\"white\",\"ticks\":\"\",\"title\":{\"standoff\":15},\"zerolinecolor\":\"white\",\"zerolinewidth\":2}}},\"geo\":{\"domain\":{\"x\":[0.0,1.0],\"y\":[0.0,1.0]},\"center\":{\"lat\":40.42889,\"lon\":-86.37472},\"scope\":\"usa\"},\"legend\":{\"tracegroupgap\":0},\"margin\":{\"t\":60},\"title\":{\"text\":\"Power Plant Map\",\"x\":0.5}},                        {\"responsive\": true}                    ).then(function(){\n",
       "                            \n",
       "var gd = document.getElementById('586b8f2b-adf7-43dd-8074-1b5feee1b0cc');\n",
       "var x = new MutationObserver(function (mutations, observer) {{\n",
       "        var display = window.getComputedStyle(gd).display;\n",
       "        if (!display || display === 'none') {{\n",
       "            console.log([gd, 'removed!']);\n",
       "            Plotly.purge(gd);\n",
       "            observer.disconnect();\n",
       "        }}\n",
       "}});\n",
       "\n",
       "// Listen for the removal of the full notebook cells\n",
       "var notebookContainer = gd.closest('#notebook-container');\n",
       "if (notebookContainer) {{\n",
       "    x.observe(notebookContainer, {childList: true});\n",
       "}}\n",
       "\n",
       "// Listen for the clearing of the current output cell\n",
       "var outputEl = gd.closest('.output');\n",
       "if (outputEl) {{\n",
       "    x.observe(outputEl, {childList: true});\n",
       "}}\n",
       "\n",
       "                        })                };                });            </script>        </div>"
      ]
     },
     "metadata": {},
     "output_type": "display_data"
    }
   ],
   "source": [
    "fig = px.scatter_geo(ppdffinal,lat='Lat',lon='Lon', hover_name=\"Power Plant Name\", scope = 'usa', center=centering)\n",
    "fig.update_layout(title = 'Power Plant Map', title_x=0.5)\n",
    "fig.show()"
   ]
  },
  {
   "cell_type": "markdown",
   "metadata": {},
   "source": [
    "## Code to be deleted later"
   ]
  },
  {
   "cell_type": "code",
   "execution_count": 100,
   "metadata": {
    "scrolled": true
   },
   "outputs": [],
   "source": [
    "ppdf.to_csv('illionispowpl.csv')"
   ]
  },
  {
   "cell_type": "code",
   "execution_count": 85,
   "metadata": {},
   "outputs": [
    {
     "data": {
      "text/html": [
       "<div>\n",
       "<style scoped>\n",
       "    .dataframe tbody tr th:only-of-type {\n",
       "        vertical-align: middle;\n",
       "    }\n",
       "\n",
       "    .dataframe tbody tr th {\n",
       "        vertical-align: top;\n",
       "    }\n",
       "\n",
       "    .dataframe thead th {\n",
       "        text-align: right;\n",
       "    }\n",
       "</style>\n",
       "<table border=\"1\" class=\"dataframe\">\n",
       "  <thead>\n",
       "    <tr style=\"text-align: right;\">\n",
       "      <th></th>\n",
       "      <th>ID No.</th>\n",
       "      <th>Lat</th>\n",
       "      <th>Lon</th>\n",
       "      <th>Lat-Lon</th>\n",
       "      <th>Megawatthours/year</th>\n",
       "    </tr>\n",
       "  </thead>\n",
       "  <tbody>\n",
       "    <tr>\n",
       "      <th>0</th>\n",
       "      <td>6022</td>\n",
       "      <td>41.2435</td>\n",
       "      <td>-88.2286</td>\n",
       "      <td>41.2435,-88.2286</td>\n",
       "      <td>[[2021, 19474347], [2020, 20371676], [2019, 20...</td>\n",
       "    </tr>\n",
       "  </tbody>\n",
       "</table>\n",
       "</div>"
      ],
      "text/plain": [
       "  ID No.      Lat       Lon           Lat-Lon  \\\n",
       "0   6022  41.2435  -88.2286  41.2435,-88.2286   \n",
       "\n",
       "                                  Megawatthours/year  \n",
       "0  [[2021, 19474347], [2020, 20371676], [2019, 20...  "
      ]
     },
     "execution_count": 85,
     "metadata": {},
     "output_type": "execute_result"
    }
   ],
   "source": [
    "resp2 = requests.get(\"https://api.eia.gov/series/?api_key=YLzAESCBG2pvI4FBAuuzrjJcqiOejX0Q3wuwrc19&series_id=ELEC.PLANT.GEN.6022-ALL-ALL.A\")\n",
    "dt = resp2.json()\n",
    "ppfull = dt['series']\n",
    "ppdata = ppfull[0]['data']#years, megawatthours\n",
    "ppname = ppfull[0]['name']\n",
    "ppid = ppname[ppname.rindex(\"(\")+1:ppname.rindex(\")\")]\n",
    "pplat = ppfull[0]['lat']\n",
    "pplong = ppfull[0]['lon']\n",
    "pplatlon = ppfull[0]['latlon']\n",
    "latlondf = pd.DataFrame(columns = [\"ID No.\", 'Lat', 'Lon', 'Lat-Lon', 'Megawatthours/year'])\n",
    "df_length = len(latlondf)\n",
    "templist = [ppid,pplat,pplong,pplatlon,ppdata]\n",
    "latlondf.loc[df_length] = templist\n",
    "latlondf\n",
    "#ppdf = pd.merge(ppdf,latlondf,how='inner', left_on=[\"Power Plant Name\", \"ID No.\"], right_on=[\"Power Plant Name\", \"ID No.\"])"
   ]
  },
  {
   "cell_type": "code",
   "execution_count": 79,
   "metadata": {
    "collapsed": true
   },
   "outputs": [
    {
     "data": {
      "text/plain": [
       "[{'series_id': 'ELEC.PLANT.GEN.6022-ALL-ALL.A',\n",
       "  'name': 'Net generation : Braidwood Generation Station (6022) : all fuels : all primemovers : annual',\n",
       "  'units': 'megawatthours',\n",
       "  'f': 'A',\n",
       "  'description': 'Summation of all fuels used for electricity generation; ',\n",
       "  'copyright': 'None',\n",
       "  'source': 'EIA, U.S. Energy Information Administration',\n",
       "  'iso3166': 'USA-IL',\n",
       "  'lat': '41.2435',\n",
       "  'lon': '-88.2286',\n",
       "  'latlon': '41.2435,-88.2286',\n",
       "  'geography': 'USA-IL',\n",
       "  'start': '2001',\n",
       "  'end': '2021',\n",
       "  'updated': '2022-02-25T15:25:17-0500',\n",
       "  'data': [['2021', 19474347],\n",
       "   ['2020', 20371676],\n",
       "   ['2019', 20251140],\n",
       "   ['2018', 19343459],\n",
       "   ['2017', 19943554],\n",
       "   ['2016', 19849269],\n",
       "   ['2015', 19710011],\n",
       "   ['2014', 20263665],\n",
       "   ['2013', 19661975],\n",
       "   ['2012', 18806334],\n",
       "   ['2011', 19777027],\n",
       "   ['2010', 19199935],\n",
       "   ['2009', 19227977],\n",
       "   ['2008', 19786156],\n",
       "   ['2007', 19657849],\n",
       "   ['2006', 19570534],\n",
       "   ['2005', 19796383],\n",
       "   ['2004', 20008012],\n",
       "   ['2003', 20026932],\n",
       "   ['2002', 20061724],\n",
       "   ['2001', 19725652]]}]"
      ]
     },
     "execution_count": 79,
     "metadata": {},
     "output_type": "execute_result"
    }
   ],
   "source": [
    "resp2 = requests.get(\"https://api.eia.gov/series/?api_key=YLzAESCBG2pvI4FBAuuzrjJcqiOejX0Q3wuwrc19&series_id=ELEC.PLANT.GEN.6022-ALL-ALL.A\")\n",
    "dt = resp2.json()\n",
    "ppfull = dt['series']\n",
    "ppfull"
   ]
  },
  {
   "cell_type": "code",
   "execution_count": 2,
   "metadata": {
    "collapsed": true
   },
   "outputs": [
    {
     "name": "stdout",
     "output_type": "stream",
     "text": [
      "{'request': {'category_id': 902944, 'command': 'category'}, 'category': {'category_id': '902944', 'parent_category_id': '1017', 'name': 'Illinois', 'notes': '', 'childcategories': [{'category_id': 1138, 'name': '(204) Clinton Power Station (204)'}, {'category_id': 1271, 'name': '(384) Joliet 29 (384)'}, {'category_id': 1579, 'name': '(856) E D Edwards (856)'}, {'category_id': 1580, 'name': '(860) Sterling Avenue (860)'}, {'category_id': 1581, 'name': '(861) Coffeen (861)'}, {'category_id': 1582, 'name': '(862) Grand Tower Energy Center LLC (862)'}, {'category_id': 1583, 'name': '(863) Hutsonville (863)'}, {'category_id': 1584, 'name': '(864) Meredosia (864)'}, {'category_id': 1585, 'name': '(865) Bloom (865)'}, {'category_id': 1586, 'name': '(866) Calumet (866)'}, {'category_id': 1587, 'name': '(867) Crawford (867)'}, {'category_id': 1588, 'name': '(869) Dresden Generating Station (869)'}, {'category_id': 1589, 'name': '(870) Electric Junction (870)'}, {'category_id': 1590, 'name': '(874) Joliet 9 (874)'}, {'category_id': 1591, 'name': '(876) Kincaid Generation LLC (876)'}, {'category_id': 1592, 'name': '(877) Lombard (877)'}, {'category_id': 1593, 'name': '(879) Powerton (879)'}, {'category_id': 1594, 'name': '(880) Quad Cities Generating Station (880)'}, {'category_id': 1595, 'name': '(882) Sabrooke (882)'}, {'category_id': 1596, 'name': '(883) Waukegan (883)'}, {'category_id': 1597, 'name': '(884) Will County (884)'}, {'category_id': 1598, 'name': '(886) Fisk Street (886)'}, {'category_id': 1599, 'name': '(887) Joppa Steam (887)'}, {'category_id': 1600, 'name': '(889) Baldwin Energy Complex (889)'}, {'category_id': 1601, 'name': '(891) Havana (891)'}, {'category_id': 1602, 'name': '(892) Hennepin Power Station (892)'}, {'category_id': 1603, 'name': '(894) Oglesby (894)'}, {'category_id': 1604, 'name': '(895) Stallings (895)'}, {'category_id': 1605, 'name': '(897) Vermilion (897)'}, {'category_id': 1606, 'name': '(898) Wood River (898)'}, {'category_id': 1607, 'name': '(899) Moline (899)'}, {'category_id': 1609, 'name': '(903) Rockton (903)'}, {'category_id': 1611, 'name': '(913) Venice (913)'}, {'category_id': 1614, 'name': '(934) Breese (934)'}, {'category_id': 1615, 'name': '(935) Bushnell (935)'}, {'category_id': 1616, 'name': '(936) Carlyle (936)'}, {'category_id': 1617, 'name': '(937) Carmi (937)'}, {'category_id': 1618, 'name': '(940) Fairfield (940)'}, {'category_id': 1619, 'name': '(941) Farmer City (941)'}, {'category_id': 1620, 'name': '(943) Freeburg (943)'}, {'category_id': 1621, 'name': '(944) Geneseo (944)'}, {'category_id': 1622, 'name': '(946) Highland (946)'}, {'category_id': 1623, 'name': '(948) McLeansboro (948)'}, {'category_id': 1624, 'name': '(949) Marshall (IL) (949)'}, {'category_id': 1625, 'name': '(950) Mascoutah (950)'}, {'category_id': 1626, 'name': '(955) Peru (IL) (955)'}, {'category_id': 1628, 'name': '(957) Princeton (IL) (957)'}, {'category_id': 1629, 'name': '(958) Rantoul (958)'}, {'category_id': 1630, 'name': '(959) Red Bud (959)'}, {'category_id': 1631, 'name': '(960) North Ninth Street (960)'}, {'category_id': 1632, 'name': '(961) South Main Street (961)'}, {'category_id': 1633, 'name': '(963) Dallman (963)'}, {'category_id': 1634, 'name': '(964) Lakeside (964)'}, {'category_id': 1635, 'name': '(965) Reynolds (965)'}, {'category_id': 1636, 'name': '(969) Sullivan (IL) (969)'}, {'category_id': 1637, 'name': '(971) Waterloo (971)'}, {'category_id': 1638, 'name': '(972) Winnetka (972)'}, {'category_id': 1639, 'name': '(976) Marion (976)'}, {'category_id': 3142, 'name': '(5756) KMS Joliet Power Partners LP (5756)'}, {'category_id': 3155, 'name': '(6016) Duck Creek (6016)'}, {'category_id': 3156, 'name': '(6017) Newton (6017)'}, {'category_id': 3161, 'name': '(6022) Braidwood Generation Station (6022)'}, {'category_id': 3162, 'name': '(6023) Byron Generating Station (6023)'}, {'category_id': 3163, 'name': '(6025) Collins (6025)'}, {'category_id': 3164, 'name': '(6026) LaSalle Generating Station (6026)'}, {'category_id': 3292, 'name': '(6237) Pittsfield (6237)'}, {'category_id': 3293, 'name': '(6238) Pearl Station (6238)'}, {'category_id': 3604, 'name': '(7384) Indian Trails Cogen 1 (7384)'}, {'category_id': 3620, 'name': '(7425) Interstate (7425)'}, {'category_id': 3645, 'name': '(7474) Upper Sterling (7474)'}, {'category_id': 3683, 'name': '(7556) State Farm (7556)'}, {'category_id': 3732, 'name': '(7760) Tilton (7760)'}, {'category_id': 3739, 'name': '(7770) 1515 S Caron Road (7770)'}, {'category_id': 3766, 'name': '(7818) Alsey (7818)'}, {'category_id': 3785, 'name': '(7842) Freedom Power Project (7842)'}, {'category_id': 3796, 'name': '(7854) Avenue A Generator Sets (7854)'}, {'category_id': 3800, 'name': '(7858) MEPI GT Facility (7858)'}, {'category_id': 3819, 'name': '(7888) Parkside (7888)'}, {'category_id': 3820, 'name': '(7891) Gillum (7891)'}, {'category_id': 3821, 'name': '(7895) Hallock (7895)'}, {'category_id': 3822, 'name': '(7896) Kickapoo (7896)'}, {'category_id': 3853, 'name': '(7934) Industrial Park (7934)'}, {'category_id': 3893, 'name': '(7990) Altamont (7990)'}, {'category_id': 3913, 'name': '(8016) Factory (8016)'}, {'category_id': 4029, 'name': '(10039) John Deere Harvester Works (10039)'}, {'category_id': 4202, 'name': '(10376) Entenmanns Cogeneration Facility (10376)'}, {'category_id': 4220, 'name': '(10400) Little Company of Mary Hospital (10400)'}, {'category_id': 4224, 'name': '(10406) Alsip Paper Condominium Association (10406)'}, {'category_id': 4278, 'name': '(10498) Klein Tools Chicago (10498)'}, {'category_id': 4287, 'name': '(10520) Dayton Hydro (10520)'}, {'category_id': 4485, 'name': '(10865) Archer Daniels Midland Decatur (10865)'}, {'category_id': 4486, 'name': '(10866) Archer Daniels Midland Peoria (10866)'}, {'category_id': 4487, 'name': '(10867) Tate & Lyle Decatur Plant Cogen (10867)'}, {'category_id': 4503, 'name': '(10903) Lockport Powerhouse (10903)'}, {'category_id': 4520, 'name': '(50040) Nicor Gas (50040)'}, {'category_id': 4694, 'name': '(50326) Nalco (50326)'}, {'category_id': 4697, 'name': '(50331) Stickney Water Reclamation Plant (50331)'}, {'category_id': 715677, 'name': '(50337) Mooseheart Power House (50337)'}, {'category_id': 4701, 'name': '(50342) Chicago Baking (50342)'}, {'category_id': 4824, 'name': '(50563) Settlers Hill Gas Recovery (50563)'}, {'category_id': 4827, 'name': '(50566) Milam Gas Recovery (50566)'}, {'category_id': 4833, 'name': '(50573) CID Gas Recovery (50573)'}, {'category_id': 4834, 'name': '(50575) Lake Gas Recovery (50575)'}, {'category_id': 4852, 'name': '(50627) ExxonMobil Oil Joliet Refinery (50627)'}, {'category_id': 4895, 'name': '(50721) Tazewell Gas Recovery (50721)'}, {'category_id': 4896, 'name': '(50722) BP Naperville Cogeneration Facility (50722)'}, {'category_id': 4999, 'name': '(50904) Fox Metro Water Reclamation District (50904)'}, {'category_id': 5003, 'name': '(50909) Sherman Hospital (50909)'}, {'category_id': 5046, 'name': '(50989) Ingersoll Milling Machine (50989)'}, {'category_id': 5052, 'name': '(51000) Bunge Milling Cogen (51000)'}, {'category_id': 5070, 'name': '(52021) ITT Cogen Facility (52021)'}, {'category_id': 5075, 'name': '(52032) IVEX Packaging (52032)'}, {'category_id': 5077, 'name': '(52034) Bunge Oil (52034)'}, {'category_id': 715540, 'name': '(52191) Illinois Refining Division (52191)'}, {'category_id': 5183, 'name': '(54044) University of Illinois Cogen Facility (54044)'}, {'category_id': 5281, 'name': '(54313) Chicago (54313)'}, {'category_id': 5308, 'name': '(54360) Fuyao Glass Illinois Inc. (54360)'}, {'category_id': 5353, 'name': '(54455) Art Institute of Chicago (54455)'}, {'category_id': 5368, 'name': '(54513) WestRock (IL) (54513)'}, {'category_id': 5371, 'name': '(54516) Dixon Marquette (54516)'}, {'category_id': 5376, 'name': '(54523) Hoffer Plastics (54523)'}, {'category_id': 5378, 'name': '(54525) Kankakee Hydro Facility (54525)'}, {'category_id': 5390, 'name': '(54540) Charter Dura-Bar (54540)'}, {'category_id': 5398, 'name': '(54556) Ingredion Incorporated (54556)'}, {'category_id': 5452, 'name': '(54659) Kankakee Gas Recovery (54659)'}, {'category_id': 5454, 'name': '(54662) Woodland Landfill Gas Recovery (54662)'}, {'category_id': 5456, 'name': '(54664) Pekin Paperboard (54664)'}, {'category_id': 5525, 'name': '(54780) University of Illinois Abbott Power Plt (54780)'}, {'category_id': 5529, 'name': '(54788) Evanston Township High School (54788)'}, {'category_id': 5531, 'name': '(54790) CSL Behring LLC (54790)'}, {'category_id': 5535, 'name': '(54798) Duraco Products (54798)'}, {'category_id': 5574, 'name': '(54855) Mars Snackfood US (54855)'}, {'category_id': 5592, 'name': '(54886) Presence Saint Mary of Nazareth Hospital (54886)'}, {'category_id': 5615, 'name': '(54924) General Mills West Chicago (54924)'}, {'category_id': 5622, 'name': '(54932) Panduit Tinley Park (54932)'}, {'category_id': 5623, 'name': '(54933) Mondelez Global LLC (54933)'}, {'category_id': 5631, 'name': '(54942) Phelps Dodge Chicago Rod (54942)'}, {'category_id': 5646, 'name': '(54969) Dixon Hydroelectric Dam (54969)'}, {'category_id': 5659, 'name': '(54987) Woodridge Greene Valley Treatment Plant (54987)'}, {'category_id': 5668, 'name': '(55004) Thornwood High School (55004)'}, {'category_id': 5669, 'name': '(55005) Thornridge High School (55005)'}, {'category_id': 5677, 'name': '(55014) Greene Valley Gas Recovery (55014)'}, {'category_id': 5703, 'name': '(55054) Livingston Generating Facility (55054)'}, {'category_id': 5704, 'name': '(55055) Biodyne Beecher (55055)'}, {'category_id': 5705, 'name': '(55056) Biodyne Congress (55056)'}, {'category_id': 5706, 'name': '(55057) Biodyne Peoria (55057)'}, {'category_id': 5707, 'name': '(55059) Biodyne Springfield (55059)'}, {'category_id': 5708, 'name': '(55060) Biodyne Lyons (55060)'}, {'category_id': 5715, 'name': '(55067) MPEA Energy Center (55067)'}, {'category_id': 5747, 'name': '(55109) Rocky Road Power LLC (55109)'}, {'category_id': 5763, 'name': '(55131) Kendall County Generation Facility (55131)'}, {'category_id': 5797, 'name': '(55174) Geneva Energy LLC (55174)'}, {'category_id': 1455737, 'name': '(55183) Nelson Energy Center (55183)'}, {'category_id': 5806, 'name': '(55188) Cordova Energy (55188)'}, {'category_id': 5812, 'name': '(55199) Elwood Energy LLC (55199)'}, {'category_id': 5814, 'name': '(55201) Gibson City Energy Center LLC (55201)'}, {'category_id': 5815, 'name': '(55202) Pinckneyville (55202)'}, {'category_id': 5817, 'name': '(55204) Kinmundy (55204)'}, {'category_id': 5826, 'name': '(55216) Morris Cogeneration LLC (55216)'}, {'category_id': 5832, 'name': '(55222) Lincoln Generating Facility (55222)'}, {'category_id': 5844, 'name': '(55236) Lee Energy Facility (55236)'}, {'category_id': 5845, 'name': '(55237) Energy Shelby County (55237)'}, {'category_id': 5846, 'name': '(55238) NRG Rockford I (55238)'}, {'category_id': 5852, 'name': '(55245) Tuscola Station (55245)'}, {'category_id': 5855, 'name': '(55250) University Park South (55250)'}, {'category_id': 5857, 'name': '(55253) Crete Energy Venture LLC (55253)'}, {'category_id': 5871, 'name': '(55279) Aurora (55279)'}, {'category_id': 5872, 'name': '(55281) Southeast Chicago Energy Project (55281)'}, {'category_id': 5884, 'name': '(55296) Calumet Energy Team LLC (55296)'}, {'category_id': 5911, 'name': '(55334) Holland Energy Facility (55334)'}, {'category_id': 5944, 'name': '(55392) Zion Energy Center (55392)'}, {'category_id': 5961, 'name': '(55417) Raccoon Creek Energy Center (55417)'}, {'category_id': 5967, 'name': '(55438) Elgin Energy Center LLC (55438)'}, {'category_id': 5987, 'name': '(55496) Goose Creek Energy Center (55496)'}, {'category_id': 6051, 'name': '(55591) Rockford Electric (55591)'}, {'category_id': 6052, 'name': '(55592) Mallard Lake Electric (55592)'}, {'category_id': 6053, 'name': '(55593) Quad Cities (55593)'}, {'category_id': 6054, 'name': '(55594) South Barrington Electric (55594)'}, {'category_id': 6081, 'name': '(55640) University Park North (55640)'}, {'category_id': 715041, 'name': '(55758) KMS Macon Power (55758)'}, {'category_id': 6126, 'name': '(55759) Roxana Resource Recovery (55759)'}, {'category_id': 6127, 'name': '(55760) Streator Energy Partners LLC (55760)'}, {'category_id': 6128, 'name': '(55761) Devonshire Power Partners LLC (55761)'}, {'category_id': 6129, 'name': '(55762) Brickyard Energy Partners LLC (55762)'}, {'category_id': 6130, 'name': '(55763) Dixon/Lee Energy Partners LLC (55763)'}, {'category_id': 6131, 'name': '(55764) Upper Rock Energy Partners LLC (55764)'}, {'category_id': 6134, 'name': '(55767) Riveside Resource Recovery LLC (55767)'}, {'category_id': 6135, 'name': '(55768) Avon Energy Partners LLC (55768)'}, {'category_id': 6139, 'name': '(55773) Mas Countryside RNG, LLC (55773)'}, {'category_id': 6140, 'name': '(55774) Morris Genco LLC (55774)'}, {'category_id': 6179, 'name': '(55856) Prairie State Generating Station (55856)'}, {'category_id': 6205, 'name': '(55936) NRG Rockford II Energy Center (55936)'}, {'category_id': 6281, 'name': '(56053) Casey City of (56053)'}, {'category_id': 6322, 'name': '(56114) IMEA Highland (56114)'}, {'category_id': 6323, 'name': '(56115) IMEA Waterloo (56115)'}, {'category_id': 6324, 'name': '(56116) IMEA Flora (56116)'}, {'category_id': 6325, 'name': '(56117) Flora Site A (56117)'}, {'category_id': 6326, 'name': '(56118) Flora Site B (56118)'}, {'category_id': 6359, 'name': '(56160) Mendota Hills, LLC (56160)'}, {'category_id': 6373, 'name': '(56176) BNWRD (56176)'}, {'category_id': 6474, 'name': '(56297) Crescent Ridge (56297)'}, {'category_id': 6509, 'name': '(56338) High Trail Wind Farm LLC (56338)'}, {'category_id': 6541, 'name': '(56376) Pike County Wind Power (56376)'}, {'category_id': 6561, 'name': '(56408) Agriwind (56408)'}, {'category_id': 6570, 'name': '(56417) Westchester Gas Recovery (56417)'}, {'category_id': 6571, 'name': '(56418) Des Plaines Gas Recovery (56418)'}, {'category_id': 6572, 'name': '(56419) Beecher Gas Recovery (56419)'}, {'category_id': 6590, 'name': '(56450) GSG LLC (56450)'}, {'category_id': 6598, 'name': '(56462) Geneva Generation Facility (56462)'}, {'category_id': 6657, 'name': '(56529) Five Oaks Gas Recovery (56529)'}, {'category_id': 6733, 'name': '(56614) Old Trail Wind Farm (56614)'}, {'category_id': 6741, 'name': '(56622) Providence Heights Wind LLC (56622)'}, {'category_id': 6758, 'name': '(56640) Camp Grove Wind Farm (56640)'}, {'category_id': 6835, 'name': '(56780) Winnebago Energy Center LLC (56780)'}, {'category_id': 6856, 'name': '(56805) EcoGrove Wind LLC (56805)'}, {'category_id': 6894, 'name': '(56856) Rail Splitter Wind Farm (56856)'}, {'category_id': 6908, 'name': '(56871) Zion Landfill Gas to Energy Facility (56871)'}, {'category_id': 6961, 'name': '(56941) Grand Ridge Wind Energy Center (56941)'}, {'category_id': 6993, 'name': '(56978) Sears Hydroelectric Plant (56978)'}, {'category_id': 7076, 'name': '(57072) Granite City Works (57072)'}, {'category_id': 7088, 'name': '(57094) Streator Cayuga Ridge South (57094)'}, {'category_id': 7103, 'name': '(57110) Blackstone Wind Farm LLC (57110)'}, {'category_id': 7106, 'name': '(57113) Blackstone Wind Farm II LLC (57113)'}, {'category_id': 7124, 'name': '(57135) Big Sky Wind LLC (57135)'}, {'category_id': 7153, 'name': '(57191) Exelon Solar Chicago (57191)'}, {'category_id': 42325, 'name': '(57284) Minonk Wind Farm (57284)'}, {'category_id': 7224, 'name': '(57325) FPL Energy Illinois Wind LLC Hybrid (57325)'}, {'category_id': 7233, 'name': '(57342) White Oak Energy LLC (57342)'}, {'category_id': 39142, 'name': '(57406) Prairie View IL (57406)'}, {'category_id': 42260, 'name': '(57463) Bishop Hill Energy LLC (57463)'}, {'category_id': 7292, 'name': '(57493) Settlers Trail Wind Farm LLC (57493)'}, {'category_id': 3641084, 'name': '(57623) Bright Stalk Wind Farm I (57623)'}, {'category_id': 7340, 'name': '(57675) Pioneer Trail Wind Farm, LLC (57675)'}, {'category_id': 39741, 'name': '(57767) Brown County Wind Turbine (57767)'}, {'category_id': 713662, 'name': '(57912) Grand Ridge Solar Farm (57912)'}, {'category_id': 714698, 'name': '(57918) Jacksonville Developmental Center (57918)'}, {'category_id': 39207, 'name': '(57928) SIUC (57928)'}, {'category_id': 7366, 'name': '(57964) Shady Oaks Wind Farm (57964)'}, {'category_id': 42335, 'name': '(58008) California Ridge Wind Energy LLC (58008)'}, {'category_id': 42279, 'name': '(58111) Bishop Hill II Wind Farm (58111)'}, {'category_id': 713658, 'name': '(58136) Adkins Energy LLC (58136)'}, {'category_id': 714537, 'name': '(58177) Kishwaukee CHP Plant (58177)'}, {'category_id': 713681, 'name': '(58181) Loyola University Health Plant (58181)'}, {'category_id': 713682, 'name': '(58245) Northeastern Illinois University Cogen (58245)'}, {'category_id': 714007, 'name': '(58328) North Chicago Energy Center (58328)'}, {'category_id': 1369061, 'name': '(58375) Triton East and West Cogen (58375)'}, {'category_id': 1236113, 'name': '(58377) Rochelle Energy Center (58377)'}, {'category_id': 2219017, 'name': '(58635) Museum of Science and Industry (58635)'}, {'category_id': 1236114, 'name': '(58643) Rockford Solar Farm (58643)'}, {'category_id': 3181306, 'name': '(58694) Walnut Ridge Wind Farm (58694)'}, {'category_id': 1236116, 'name': '(58887) Com Adam 1WF-1 (58887)'}, {'category_id': 1702124, 'name': '(58898) Pilot Hill Wind Farm (58898)'}, {'category_id': 4060189, 'name': '(58924) Sugar Creek Wind One LLC (58924)'}, {'category_id': 4457064, 'name': '(58925) Lincoln Land Wind (58925)'}, {'category_id': 1448041, 'name': '(59021) Hoopeston Wind LLC (59021)'}, {'category_id': 2714524, 'name': '(59061) Radfords Run Wind Farm (59061)'}, {'category_id': 2219023, 'name': '(59635) Clinton LFGTE (59635)'}, {'category_id': 1728718, 'name': '(59776) Heartland Community College (59776)'}, {'category_id': 2615742, 'name': '(59792) Orchard Hills Renewable Energy Station (59792)'}, {'category_id': 1728719, 'name': '(59794) Chicago West Side Energy Center (59794)'}, {'category_id': 1728720, 'name': '(59847) Northwest Community Hospital (59847)'}, {'category_id': 1728721, 'name': '(59884) Great Lakes Central Power Plant (59884)'}, {'category_id': 3724168, 'name': '(59902) Cardinal Point LLC (59902)'}, {'category_id': 2606691, 'name': '(59957) Grand Ridge Battery Projects (59957)'}, {'category_id': 2606692, 'name': '(59959) Elwood Energy Storage Center (59959)'}, {'category_id': 2606693, 'name': '(59960) Jake Energy Storage Center (59960)'}, {'category_id': 3641117, 'name': '(60471) Green River Wind Farm (60471)'}, {'category_id': 2309539, 'name': '(60587) Kelly Creek Wind Project (60587)'}, {'category_id': 2615750, 'name': '(60656) McHenry Battery Storage (60656)'}, {'category_id': 2615751, 'name': '(60742) Argonne National Laboratory CHP (60742)'}, {'category_id': 2615752, 'name': '(60797) Lake Forest Hospital Central Energy Plant (60797)'}, {'category_id': 3828531, 'name': '(61161) Harvest Ridge  Wind Farm (61161)'}, {'category_id': 3019320, 'name': '(61192) IKEA Joliet Rooftop PV System (61192)'}, {'category_id': 3724178, 'name': '(61344) Otter Creek Wind Farm LLC (61344)'}, {'category_id': 3252403, 'name': '(61735) Hilltopper Wind Project (61735)'}, {'category_id': 3029625, 'name': '(61787) Bishop Hill III (61787)'}, {'category_id': 4350969, 'name': '(61878) John A Logan College Solar (61878)'}, {'category_id': 3523838, 'name': '(61990) TAC-Distributed Energy Resource Hybrid (61990)'}, {'category_id': 4457089, 'name': '(62420) Prairie State Solar Project (62420)'}, {'category_id': 3950025, 'name': '(62451) Rantoul Solar (62451)'}, {'category_id': 3724182, 'name': '(62606) Whitney Hill Wind Power LLC (62606)'}, {'category_id': 4350974, 'name': '(62681) CED Champaign Solar LLC (62681)'}, {'category_id': 3950027, 'name': '(62735) Phoenix Solar South Farms LLC Solar Farm (62735)'}, {'category_id': 3406524, 'name': '(62856) Marengo Battery Storage LLC (62856)'}, {'category_id': 4457095, 'name': '(62893) Prairie Wolf Solar LLC (62893)'}, {'category_id': 4350977, 'name': '(63069) Harmony Road Solar (63069)'}, {'category_id': 4350978, 'name': '(63070) Square Barn Solar (63070)'}, {'category_id': 4350979, 'name': '(63071) Reed Road Solar (63071)'}, {'category_id': 4350980, 'name': '(63073) Mooseheart School Solar (63073)'}, {'category_id': 4071146, 'name': '(63251) Lone Tree Wind, LLC (63251)'}, {'category_id': 4457101, 'name': '(63384) Bennington Wind (63384)'}, {'category_id': 4350982, 'name': '(63399) Galesburg Solar Array (63399)'}, {'category_id': 4350983, 'name': '(63790) Illinois PV Fulton 1 CSG (63790)'}, {'category_id': 3950029, 'name': '(63825) Lineage Logistics Solar (63825)'}, {'category_id': 4350985, 'name': '(63888) ESIL-PFCHICAGO 3, LLC (63888)'}, {'category_id': 4350986, 'name': '(63889) ESIL-PFCHICAGO 2, LLC (63889)'}, {'category_id': 4350987, 'name': '(63945) Clinton Solar 4 LLC CSG (63945)'}, {'category_id': 4350988, 'name': '(63946) Vermilion Solar 1, LLC CSG (63946)'}, {'category_id': 4350989, 'name': '(63952) Ridge Farm (63952)'}, {'category_id': 4071148, 'name': '(63988) Blooming Grove Wind Energy Center (63988)'}, {'category_id': 4350992, 'name': '(64018) Route 76 Boone Solar 1 (64018)'}, {'category_id': 4350993, 'name': '(64040) Apple Canyon Lake Solar (64040)'}, {'category_id': 4350994, 'name': '(64058) 2662 Freeport Solar 1 CSG (64058)'}, {'category_id': 4350995, 'name': '(64059) Whiteside Solar 1 CSG (64059)'}, {'category_id': 4350996, 'name': '(64100) Morgan Solar 4, LLC CSG (64100)'}, {'category_id': 4350997, 'name': '(64122) Marlow Solar, LLC CSG (64122)'}, {'category_id': 4350998, 'name': '(64124) IGS Stockton DG CSG (64124)'}, {'category_id': 4350999, 'name': '(64159) Morgan Solar 2, LLC CSG (64159)'}, {'category_id': 4351000, 'name': '(64201) McDonough Solar 1, LLC CSG (64201)'}, {'category_id': 4457121, 'name': '(64224) Dressor Plains Solar, LLC (64224)'}, {'category_id': 4351001, 'name': '(64228) Blue Goose Solar CSG (64228)'}, {'category_id': 4351002, 'name': '(64229) Iroquois Solar 1B LLC CSG (64229)'}, {'category_id': 4351003, 'name': '(64243) Sullivan B Community Solar LLC (64243)'}, {'category_id': 4351004, 'name': '(64254) Kent School Road Solar 1 (64254)'}, {'category_id': 4351005, 'name': '(64257) Schulte 2 Community Solar (64257)'}, {'category_id': 4351006, 'name': '(64269) Kankakee Solar 4 LLC (64269)'}, {'category_id': 4351007, 'name': '(64302) Lafayette 2 - McHenry Franks 1 (64302)'}, {'category_id': 4351008, 'name': '(64303) Lafayette 2 - McHenry Franks 2 (64303)'}, {'category_id': 4351009, 'name': '(64304) Lafayette 2 - Kankakee Yonke (64304)'}, {'category_id': 4351010, 'name': '(64328) AES Griggs Solar, LLC (64328)'}, {'category_id': 4351011, 'name': '(64329) IGS East Central, LLC (64329)'}, {'category_id': 4351012, 'name': '(64330) SV CSG Lily Lake 2 LLC (64330)'}, {'category_id': 4351013, 'name': '(64331) Cedarville Road (64331)'}, {'category_id': 4351014, 'name': '(64362) SCS American Bottoms 009885 Sauget, LLC (64362)'}, {'category_id': 4351015, 'name': '(64364) SCS Beltway 011754 Rock Falls, LLC (64364)'}, {'category_id': 4351016, 'name': '(64368) Mooseheart School - (IL) (64368)'}, {'category_id': 4457138, 'name': '(64381) Glacier Sands Wind Power, LLC (64381)'}], 'childseries': []}}\n"
     ]
    }
   ],
   "source": [
    "resp3 = requests.get(\"https://api.eia.gov/category/?api_key=YLzAESCBG2pvI4FBAuuzrjJcqiOejX0Q3wuwrc19&category_id=902944\")\n",
    "print(resp3.json())"
   ]
  },
  {
   "cell_type": "code",
   "execution_count": 42,
   "metadata": {},
   "outputs": [
    {
     "data": {
      "text/plain": [
       "'Clinton Power Station'"
      ]
     },
     "execution_count": 42,
     "metadata": {},
     "output_type": "execute_result"
    }
   ],
   "source": [
    "ppname[-ppname.rindex(\" \"):ppname.rindex(\"(\")-1]\n",
    "#ppname[-ppname.rindex(\" \")+1:-ppname.rindex(\"(\")]"
   ]
  },
  {
   "cell_type": "code",
   "execution_count": 52,
   "metadata": {
    "collapsed": true
   },
   "outputs": [
    {
     "ename": "ValueError",
     "evalue": "Shape of passed values is (2, 1), indices imply (2, 2)",
     "output_type": "error",
     "traceback": [
      "\u001b[1;31m---------------------------------------------------------------------------\u001b[0m",
      "\u001b[1;31mValueError\u001b[0m                                Traceback (most recent call last)",
      "\u001b[1;32m~\\anaconda3\\lib\\site-packages\\pandas\\core\\internals\\managers.py\u001b[0m in \u001b[0;36mcreate_block_manager_from_blocks\u001b[1;34m(blocks, axes)\u001b[0m\n\u001b[0;32m   1674\u001b[0m                 blocks = [\n\u001b[1;32m-> 1675\u001b[1;33m                     make_block(\n\u001b[0m\u001b[0;32m   1676\u001b[0m                         \u001b[0mvalues\u001b[0m\u001b[1;33m=\u001b[0m\u001b[0mblocks\u001b[0m\u001b[1;33m[\u001b[0m\u001b[1;36m0\u001b[0m\u001b[1;33m]\u001b[0m\u001b[1;33m,\u001b[0m \u001b[0mplacement\u001b[0m\u001b[1;33m=\u001b[0m\u001b[0mslice\u001b[0m\u001b[1;33m(\u001b[0m\u001b[1;36m0\u001b[0m\u001b[1;33m,\u001b[0m \u001b[0mlen\u001b[0m\u001b[1;33m(\u001b[0m\u001b[0maxes\u001b[0m\u001b[1;33m[\u001b[0m\u001b[1;36m0\u001b[0m\u001b[1;33m]\u001b[0m\u001b[1;33m)\u001b[0m\u001b[1;33m)\u001b[0m\u001b[1;33m,\u001b[0m \u001b[0mndim\u001b[0m\u001b[1;33m=\u001b[0m\u001b[1;36m2\u001b[0m\u001b[1;33m\u001b[0m\u001b[1;33m\u001b[0m\u001b[0m\n",
      "\u001b[1;32m~\\anaconda3\\lib\\site-packages\\pandas\\core\\internals\\blocks.py\u001b[0m in \u001b[0;36mmake_block\u001b[1;34m(values, placement, klass, ndim, dtype)\u001b[0m\n\u001b[0;32m   2741\u001b[0m \u001b[1;33m\u001b[0m\u001b[0m\n\u001b[1;32m-> 2742\u001b[1;33m     \u001b[1;32mreturn\u001b[0m \u001b[0mklass\u001b[0m\u001b[1;33m(\u001b[0m\u001b[0mvalues\u001b[0m\u001b[1;33m,\u001b[0m \u001b[0mndim\u001b[0m\u001b[1;33m=\u001b[0m\u001b[0mndim\u001b[0m\u001b[1;33m,\u001b[0m \u001b[0mplacement\u001b[0m\u001b[1;33m=\u001b[0m\u001b[0mplacement\u001b[0m\u001b[1;33m)\u001b[0m\u001b[1;33m\u001b[0m\u001b[1;33m\u001b[0m\u001b[0m\n\u001b[0m\u001b[0;32m   2743\u001b[0m \u001b[1;33m\u001b[0m\u001b[0m\n",
      "\u001b[1;32m~\\anaconda3\\lib\\site-packages\\pandas\\core\\internals\\blocks.py\u001b[0m in \u001b[0;36m__init__\u001b[1;34m(self, values, placement, ndim)\u001b[0m\n\u001b[0;32m    141\u001b[0m         \u001b[1;32mif\u001b[0m \u001b[0mself\u001b[0m\u001b[1;33m.\u001b[0m\u001b[0m_validate_ndim\u001b[0m \u001b[1;32mand\u001b[0m \u001b[0mself\u001b[0m\u001b[1;33m.\u001b[0m\u001b[0mndim\u001b[0m \u001b[1;32mand\u001b[0m \u001b[0mlen\u001b[0m\u001b[1;33m(\u001b[0m\u001b[0mself\u001b[0m\u001b[1;33m.\u001b[0m\u001b[0mmgr_locs\u001b[0m\u001b[1;33m)\u001b[0m \u001b[1;33m!=\u001b[0m \u001b[0mlen\u001b[0m\u001b[1;33m(\u001b[0m\u001b[0mself\u001b[0m\u001b[1;33m.\u001b[0m\u001b[0mvalues\u001b[0m\u001b[1;33m)\u001b[0m\u001b[1;33m:\u001b[0m\u001b[1;33m\u001b[0m\u001b[1;33m\u001b[0m\u001b[0m\n\u001b[1;32m--> 142\u001b[1;33m             raise ValueError(\n\u001b[0m\u001b[0;32m    143\u001b[0m                 \u001b[1;34mf\"Wrong number of items passed {len(self.values)}, \"\u001b[0m\u001b[1;33m\u001b[0m\u001b[1;33m\u001b[0m\u001b[0m\n",
      "\u001b[1;31mValueError\u001b[0m: Wrong number of items passed 1, placement implies 2",
      "\nDuring handling of the above exception, another exception occurred:\n",
      "\u001b[1;31mValueError\u001b[0m                                Traceback (most recent call last)",
      "\u001b[1;32m<ipython-input-52-ace9eed26afa>\u001b[0m in \u001b[0;36m<module>\u001b[1;34m\u001b[0m\n\u001b[0;32m      1\u001b[0m \u001b[0midstorage\u001b[0m \u001b[1;33m=\u001b[0m \u001b[0mpd\u001b[0m\u001b[1;33m.\u001b[0m\u001b[0mDataFrame\u001b[0m\u001b[1;33m(\u001b[0m\u001b[0mcolumns\u001b[0m \u001b[1;33m=\u001b[0m \u001b[1;33m[\u001b[0m\u001b[1;34m\"Power Plant Name\"\u001b[0m\u001b[1;33m,\u001b[0m \u001b[1;34m\"ID No.\"\u001b[0m\u001b[1;33m]\u001b[0m\u001b[1;33m)\u001b[0m\u001b[1;33m\u001b[0m\u001b[1;33m\u001b[0m\u001b[0m\n\u001b[1;32m----> 2\u001b[1;33m \u001b[0mtempstor\u001b[0m \u001b[1;33m=\u001b[0m \u001b[0mpd\u001b[0m\u001b[1;33m.\u001b[0m\u001b[0mDataFrame\u001b[0m\u001b[1;33m(\u001b[0m\u001b[1;33m[\u001b[0m\u001b[0mppname\u001b[0m\u001b[1;33m[\u001b[0m\u001b[1;33m-\u001b[0m\u001b[0mppname\u001b[0m\u001b[1;33m.\u001b[0m\u001b[0mrindex\u001b[0m\u001b[1;33m(\u001b[0m\u001b[1;34m\" \"\u001b[0m\u001b[1;33m)\u001b[0m\u001b[1;33m:\u001b[0m\u001b[0mppname\u001b[0m\u001b[1;33m.\u001b[0m\u001b[0mrindex\u001b[0m\u001b[1;33m(\u001b[0m\u001b[1;34m\"(\"\u001b[0m\u001b[1;33m)\u001b[0m\u001b[1;33m-\u001b[0m\u001b[1;36m1\u001b[0m\u001b[1;33m]\u001b[0m\u001b[1;33m,\u001b[0m \u001b[0mppname\u001b[0m\u001b[1;33m[\u001b[0m\u001b[0mppname\u001b[0m\u001b[1;33m.\u001b[0m\u001b[0mrindex\u001b[0m\u001b[1;33m(\u001b[0m\u001b[1;34m\"(\"\u001b[0m\u001b[1;33m)\u001b[0m\u001b[1;33m+\u001b[0m\u001b[1;36m1\u001b[0m\u001b[1;33m:\u001b[0m\u001b[0mppname\u001b[0m\u001b[1;33m.\u001b[0m\u001b[0mrindex\u001b[0m\u001b[1;33m(\u001b[0m\u001b[1;34m\")\"\u001b[0m\u001b[1;33m)\u001b[0m\u001b[1;33m]\u001b[0m\u001b[1;33m]\u001b[0m\u001b[1;33m,\u001b[0m\u001b[0mcolumns\u001b[0m \u001b[1;33m=\u001b[0m \u001b[1;33m[\u001b[0m\u001b[1;34m\"Power Plant Name\"\u001b[0m\u001b[1;33m,\u001b[0m \u001b[1;34m\"ID No.\"\u001b[0m\u001b[1;33m]\u001b[0m\u001b[1;33m)\u001b[0m\u001b[1;33m\u001b[0m\u001b[1;33m\u001b[0m\u001b[0m\n\u001b[0m\u001b[0;32m      3\u001b[0m \u001b[0midstorage\u001b[0m \u001b[1;33m=\u001b[0m \u001b[0mpd\u001b[0m\u001b[1;33m.\u001b[0m\u001b[0mconcat\u001b[0m\u001b[1;33m(\u001b[0m\u001b[1;33m[\u001b[0m\u001b[0midstorage\u001b[0m\u001b[1;33m,\u001b[0m \u001b[0mtempstor\u001b[0m\u001b[1;33m]\u001b[0m\u001b[1;33m)\u001b[0m\u001b[1;33m\u001b[0m\u001b[1;33m\u001b[0m\u001b[0m\n\u001b[0;32m      4\u001b[0m \u001b[0midstorage\u001b[0m\u001b[1;33m\u001b[0m\u001b[1;33m\u001b[0m\u001b[0m\n",
      "\u001b[1;32m~\\anaconda3\\lib\\site-packages\\pandas\\core\\frame.py\u001b[0m in \u001b[0;36m__init__\u001b[1;34m(self, data, index, columns, dtype, copy)\u001b[0m\n\u001b[0;32m    582\u001b[0m                     \u001b[0mmgr\u001b[0m \u001b[1;33m=\u001b[0m \u001b[0marrays_to_mgr\u001b[0m\u001b[1;33m(\u001b[0m\u001b[0marrays\u001b[0m\u001b[1;33m,\u001b[0m \u001b[0mcolumns\u001b[0m\u001b[1;33m,\u001b[0m \u001b[0mindex\u001b[0m\u001b[1;33m,\u001b[0m \u001b[0mcolumns\u001b[0m\u001b[1;33m,\u001b[0m \u001b[0mdtype\u001b[0m\u001b[1;33m=\u001b[0m\u001b[0mdtype\u001b[0m\u001b[1;33m)\u001b[0m\u001b[1;33m\u001b[0m\u001b[1;33m\u001b[0m\u001b[0m\n\u001b[0;32m    583\u001b[0m                 \u001b[1;32melse\u001b[0m\u001b[1;33m:\u001b[0m\u001b[1;33m\u001b[0m\u001b[1;33m\u001b[0m\u001b[0m\n\u001b[1;32m--> 584\u001b[1;33m                     \u001b[0mmgr\u001b[0m \u001b[1;33m=\u001b[0m \u001b[0minit_ndarray\u001b[0m\u001b[1;33m(\u001b[0m\u001b[0mdata\u001b[0m\u001b[1;33m,\u001b[0m \u001b[0mindex\u001b[0m\u001b[1;33m,\u001b[0m \u001b[0mcolumns\u001b[0m\u001b[1;33m,\u001b[0m \u001b[0mdtype\u001b[0m\u001b[1;33m=\u001b[0m\u001b[0mdtype\u001b[0m\u001b[1;33m,\u001b[0m \u001b[0mcopy\u001b[0m\u001b[1;33m=\u001b[0m\u001b[0mcopy\u001b[0m\u001b[1;33m)\u001b[0m\u001b[1;33m\u001b[0m\u001b[1;33m\u001b[0m\u001b[0m\n\u001b[0m\u001b[0;32m    585\u001b[0m             \u001b[1;32melse\u001b[0m\u001b[1;33m:\u001b[0m\u001b[1;33m\u001b[0m\u001b[1;33m\u001b[0m\u001b[0m\n\u001b[0;32m    586\u001b[0m                 \u001b[0mmgr\u001b[0m \u001b[1;33m=\u001b[0m \u001b[0minit_dict\u001b[0m\u001b[1;33m(\u001b[0m\u001b[1;33m{\u001b[0m\u001b[1;33m}\u001b[0m\u001b[1;33m,\u001b[0m \u001b[0mindex\u001b[0m\u001b[1;33m,\u001b[0m \u001b[0mcolumns\u001b[0m\u001b[1;33m,\u001b[0m \u001b[0mdtype\u001b[0m\u001b[1;33m=\u001b[0m\u001b[0mdtype\u001b[0m\u001b[1;33m)\u001b[0m\u001b[1;33m\u001b[0m\u001b[1;33m\u001b[0m\u001b[0m\n",
      "\u001b[1;32m~\\anaconda3\\lib\\site-packages\\pandas\\core\\internals\\construction.py\u001b[0m in \u001b[0;36minit_ndarray\u001b[1;34m(values, index, columns, dtype, copy)\u001b[0m\n\u001b[0;32m    236\u001b[0m         \u001b[0mblock_values\u001b[0m \u001b[1;33m=\u001b[0m \u001b[1;33m[\u001b[0m\u001b[0mvalues\u001b[0m\u001b[1;33m]\u001b[0m\u001b[1;33m\u001b[0m\u001b[1;33m\u001b[0m\u001b[0m\n\u001b[0;32m    237\u001b[0m \u001b[1;33m\u001b[0m\u001b[0m\n\u001b[1;32m--> 238\u001b[1;33m     \u001b[1;32mreturn\u001b[0m \u001b[0mcreate_block_manager_from_blocks\u001b[0m\u001b[1;33m(\u001b[0m\u001b[0mblock_values\u001b[0m\u001b[1;33m,\u001b[0m \u001b[1;33m[\u001b[0m\u001b[0mcolumns\u001b[0m\u001b[1;33m,\u001b[0m \u001b[0mindex\u001b[0m\u001b[1;33m]\u001b[0m\u001b[1;33m)\u001b[0m\u001b[1;33m\u001b[0m\u001b[1;33m\u001b[0m\u001b[0m\n\u001b[0m\u001b[0;32m    239\u001b[0m \u001b[1;33m\u001b[0m\u001b[0m\n\u001b[0;32m    240\u001b[0m \u001b[1;33m\u001b[0m\u001b[0m\n",
      "\u001b[1;32m~\\anaconda3\\lib\\site-packages\\pandas\\core\\internals\\managers.py\u001b[0m in \u001b[0;36mcreate_block_manager_from_blocks\u001b[1;34m(blocks, axes)\u001b[0m\n\u001b[0;32m   1685\u001b[0m         \u001b[0mblocks\u001b[0m \u001b[1;33m=\u001b[0m \u001b[1;33m[\u001b[0m\u001b[0mgetattr\u001b[0m\u001b[1;33m(\u001b[0m\u001b[0mb\u001b[0m\u001b[1;33m,\u001b[0m \u001b[1;34m\"values\"\u001b[0m\u001b[1;33m,\u001b[0m \u001b[0mb\u001b[0m\u001b[1;33m)\u001b[0m \u001b[1;32mfor\u001b[0m \u001b[0mb\u001b[0m \u001b[1;32min\u001b[0m \u001b[0mblocks\u001b[0m\u001b[1;33m]\u001b[0m\u001b[1;33m\u001b[0m\u001b[1;33m\u001b[0m\u001b[0m\n\u001b[0;32m   1686\u001b[0m         \u001b[0mtot_items\u001b[0m \u001b[1;33m=\u001b[0m \u001b[0msum\u001b[0m\u001b[1;33m(\u001b[0m\u001b[0mb\u001b[0m\u001b[1;33m.\u001b[0m\u001b[0mshape\u001b[0m\u001b[1;33m[\u001b[0m\u001b[1;36m0\u001b[0m\u001b[1;33m]\u001b[0m \u001b[1;32mfor\u001b[0m \u001b[0mb\u001b[0m \u001b[1;32min\u001b[0m \u001b[0mblocks\u001b[0m\u001b[1;33m)\u001b[0m\u001b[1;33m\u001b[0m\u001b[1;33m\u001b[0m\u001b[0m\n\u001b[1;32m-> 1687\u001b[1;33m         \u001b[1;32mraise\u001b[0m \u001b[0mconstruction_error\u001b[0m\u001b[1;33m(\u001b[0m\u001b[0mtot_items\u001b[0m\u001b[1;33m,\u001b[0m \u001b[0mblocks\u001b[0m\u001b[1;33m[\u001b[0m\u001b[1;36m0\u001b[0m\u001b[1;33m]\u001b[0m\u001b[1;33m.\u001b[0m\u001b[0mshape\u001b[0m\u001b[1;33m[\u001b[0m\u001b[1;36m1\u001b[0m\u001b[1;33m:\u001b[0m\u001b[1;33m]\u001b[0m\u001b[1;33m,\u001b[0m \u001b[0maxes\u001b[0m\u001b[1;33m,\u001b[0m \u001b[0me\u001b[0m\u001b[1;33m)\u001b[0m\u001b[1;33m\u001b[0m\u001b[1;33m\u001b[0m\u001b[0m\n\u001b[0m\u001b[0;32m   1688\u001b[0m \u001b[1;33m\u001b[0m\u001b[0m\n\u001b[0;32m   1689\u001b[0m \u001b[1;33m\u001b[0m\u001b[0m\n",
      "\u001b[1;31mValueError\u001b[0m: Shape of passed values is (2, 1), indices imply (2, 2)"
     ]
    }
   ],
   "source": [
    "idstorage = pd.DataFrame(columns = [\"Power Plant Name\", \"ID No.\"])\n",
    "tempstor = pd.DataFrame([ppname[-ppname.rindex(\" \"):ppname.rindex(\"(\")-1], ppname[ppname.rindex(\"(\")+1:ppname.rindex(\")\")]],columns = [\"Power Plant Name\", \"ID No.\"])\n",
    "idstorage = pd.concat([idstorage, tempstor])\n",
    "idstorage"
   ]
  },
  {
   "cell_type": "code",
   "execution_count": 61,
   "metadata": {},
   "outputs": [
    {
     "data": {
      "text/html": [
       "<div>\n",
       "<style scoped>\n",
       "    .dataframe tbody tr th:only-of-type {\n",
       "        vertical-align: middle;\n",
       "    }\n",
       "\n",
       "    .dataframe tbody tr th {\n",
       "        vertical-align: top;\n",
       "    }\n",
       "\n",
       "    .dataframe thead th {\n",
       "        text-align: right;\n",
       "    }\n",
       "</style>\n",
       "<table border=\"1\" class=\"dataframe\">\n",
       "  <thead>\n",
       "    <tr style=\"text-align: right;\">\n",
       "      <th></th>\n",
       "      <th>Power Plant Name</th>\n",
       "      <th>ID No.</th>\n",
       "    </tr>\n",
       "  </thead>\n",
       "  <tbody>\n",
       "    <tr>\n",
       "      <th>0</th>\n",
       "      <td>Clinton Power Station</td>\n",
       "      <td>204</td>\n",
       "    </tr>\n",
       "  </tbody>\n",
       "</table>\n",
       "</div>"
      ],
      "text/plain": [
       "        Power Plant Name ID No.\n",
       "0  Clinton Power Station    204"
      ]
     },
     "execution_count": 61,
     "metadata": {},
     "output_type": "execute_result"
    }
   ],
   "source": [
    "tempstor = pd.DataFrame(columns = [\"Power Plant Name\", \"ID No.\"])\n",
    "df_length = len(tempstor)\n",
    "templist = [ppname[-ppname.rindex(\" \"):ppname.rindex(\"(\")-1],ppname[ppname.rindex(\"(\")+1:ppname.rindex(\")\")]]\n",
    "tempstor.loc[df_length] = templist\n",
    "tempstor"
   ]
  },
  {
   "cell_type": "code",
   "execution_count": null,
   "metadata": {},
   "outputs": [],
   "source": []
  }
 ],
 "metadata": {
  "kernelspec": {
   "display_name": "Python 3",
   "language": "python",
   "name": "python3"
  },
  "language_info": {
   "codemirror_mode": {
    "name": "ipython",
    "version": 3
   },
   "file_extension": ".py",
   "mimetype": "text/x-python",
   "name": "python",
   "nbconvert_exporter": "python",
   "pygments_lexer": "ipython3",
   "version": "3.8.3"
  }
 },
 "nbformat": 4,
 "nbformat_minor": 5
}
